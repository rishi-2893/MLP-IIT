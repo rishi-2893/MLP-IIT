{
 "cells": [
  {
   "cell_type": "code",
   "execution_count": 1,
   "metadata": {},
   "outputs": [],
   "source": [
    "import pandas as pd\n",
    "import numpy as np"
   ]
  },
  {
   "cell_type": "code",
   "execution_count": 2,
   "metadata": {},
   "outputs": [
    {
     "data": {
      "text/plain": [
       "(4000, 14)"
      ]
     },
     "execution_count": 2,
     "metadata": {},
     "output_type": "execute_result"
    }
   ],
   "source": [
    "df = pd.read_csv('NPPE1_Preprocessing1.csv')\n",
    "df.shape"
   ]
  },
  {
   "cell_type": "code",
   "execution_count": 3,
   "metadata": {},
   "outputs": [
    {
     "name": "stdout",
     "output_type": "stream",
     "text": [
      "<class 'pandas.core.frame.DataFrame'>\n",
      "RangeIndex: 4000 entries, 0 to 3999\n",
      "Data columns (total 14 columns):\n",
      " #   Column        Non-Null Count  Dtype  \n",
      "---  ------        --------------  -----  \n",
      " 0   CRIM          4000 non-null   float64\n",
      " 1   ZN            4000 non-null   float64\n",
      " 2   INDUS         4000 non-null   float64\n",
      " 3   POLINDEX      4000 non-null   float64\n",
      " 4   RM            4000 non-null   float64\n",
      " 5   AGE           4000 non-null   float64\n",
      " 6   DIS           4000 non-null   float64\n",
      " 7   HIGHWAYCOUNT  4000 non-null   int64  \n",
      " 8   TAX           4000 non-null   float64\n",
      " 9   PTRATIO       4000 non-null   float64\n",
      " 10  IMM           4000 non-null   float64\n",
      " 11  BPL           4000 non-null   float64\n",
      " 12  PRICE         4000 non-null   float64\n",
      " 13  RIVERSIDE     4000 non-null   object \n",
      "dtypes: float64(12), int64(1), object(1)\n",
      "memory usage: 437.6+ KB\n"
     ]
    }
   ],
   "source": [
    "df.info()"
   ]
  },
  {
   "cell_type": "code",
   "execution_count": 4,
   "metadata": {},
   "outputs": [
    {
     "data": {
      "text/plain": [
       "24.355923220694248"
      ]
     },
     "execution_count": 4,
     "metadata": {},
     "output_type": "execute_result"
    }
   ],
   "source": [
    "df['PRICE'].mean()"
   ]
  },
  {
   "cell_type": "code",
   "execution_count": 5,
   "metadata": {},
   "outputs": [
    {
     "data": {
      "text/plain": [
       "3953"
      ]
     },
     "execution_count": 5,
     "metadata": {},
     "output_type": "execute_result"
    }
   ],
   "source": [
    "len(df[df['RM'] >= 5])"
   ]
  },
  {
   "cell_type": "code",
   "execution_count": 6,
   "metadata": {},
   "outputs": [
    {
     "data": {
      "text/plain": [
       "52.36590175716407"
      ]
     },
     "execution_count": 6,
     "metadata": {},
     "output_type": "execute_result"
    }
   ],
   "source": [
    "df.sort_values(by='PRICE', ascending=False).head(10)['PRICE'].mean()"
   ]
  },
  {
   "cell_type": "code",
   "execution_count": 7,
   "metadata": {},
   "outputs": [
    {
     "data": {
      "text/plain": [
       "array([ 6.,  7.,  8.,  9., 10., -1.,  5.,  4., 11.])"
      ]
     },
     "execution_count": 7,
     "metadata": {},
     "output_type": "execute_result"
    }
   ],
   "source": [
    "df['RM'].unique()"
   ]
  },
  {
   "cell_type": "code",
   "execution_count": 8,
   "metadata": {},
   "outputs": [
    {
     "data": {
      "text/plain": [
       "40"
      ]
     },
     "execution_count": 8,
     "metadata": {},
     "output_type": "execute_result"
    }
   ],
   "source": [
    "len(df[df['RM'] == -1])"
   ]
  },
  {
   "cell_type": "code",
   "execution_count": 9,
   "metadata": {},
   "outputs": [
    {
     "data": {
      "text/plain": [
       "array([ 42.,  63.,  -2.,   9.,  20.,  95.,  35.,  97.,  36.,  78.,  99.,\n",
       "        96.,  19.,  73.,  86.,  37.,  76.,  50.,  32.,  92., 101.,   8.,\n",
       "        94.,  84.,  47.,  43.,  65.,  46.,  59.,  74.,  93.,  80.,  98.,\n",
       "       102.,  56., 100.,  89.,  53.,  18.,  71.,  62.,  83.,  66.,   7.,\n",
       "        77.,  91.,  90.,  58.,  57.,  60.,  87.,  75.,  34.,  85.,  48.,\n",
       "        33.,  38.,  30.,  23.,  55.,  11.,  14.,  45.,  41.,  88.,  16.,\n",
       "        12.,  79.,  67.,  39.,  49.,  61.,  70.,  54.,  10.,  22.,  72.,\n",
       "        15.,  51.,  81.,  31.,  52.,  44.,  28.,  17.,  40.,  29.,  69.,\n",
       "        64.,  24.,  82.,  26.,  68.,  27.,  13., 103.,  21.,  25.,   6.,\n",
       "         5.,   3.,   4.])"
      ]
     },
     "execution_count": 9,
     "metadata": {},
     "output_type": "execute_result"
    }
   ],
   "source": [
    "df['AGE'].unique()"
   ]
  },
  {
   "cell_type": "code",
   "execution_count": 10,
   "metadata": {},
   "outputs": [
    {
     "data": {
      "text/plain": [
       "50"
      ]
     },
     "execution_count": 10,
     "metadata": {},
     "output_type": "execute_result"
    }
   ],
   "source": [
    "len(df[df['AGE'] < 0])"
   ]
  },
  {
   "cell_type": "code",
   "execution_count": 11,
   "metadata": {},
   "outputs": [
    {
     "data": {
      "text/plain": [
       "array(['NO', 'UNKNOWN', 'YES'], dtype=object)"
      ]
     },
     "execution_count": 11,
     "metadata": {},
     "output_type": "execute_result"
    }
   ],
   "source": [
    "df['RIVERSIDE'].unique()"
   ]
  },
  {
   "cell_type": "code",
   "execution_count": 12,
   "metadata": {},
   "outputs": [
    {
     "data": {
      "text/plain": [
       "88"
      ]
     },
     "execution_count": 12,
     "metadata": {},
     "output_type": "execute_result"
    }
   ],
   "source": [
    "len(df[df['RIVERSIDE'] == 'UNKNOWN'])"
   ]
  },
  {
   "cell_type": "code",
   "execution_count": 13,
   "metadata": {},
   "outputs": [
    {
     "data": {
      "text/plain": [
       "44"
      ]
     },
     "execution_count": 13,
     "metadata": {},
     "output_type": "execute_result"
    }
   ],
   "source": [
    "len(df[(df['RIVERSIDE'] == 'YES') & (df['AGE'] <= 50) & (df['AGE'] > 0)])"
   ]
  },
  {
   "cell_type": "code",
   "execution_count": 14,
   "metadata": {},
   "outputs": [
    {
     "data": {
      "text/plain": [
       "1211"
      ]
     },
     "execution_count": 14,
     "metadata": {},
     "output_type": "execute_result"
    }
   ],
   "source": [
    "len(df[df['HIGHWAYCOUNT'].isin([6,7,8])])"
   ]
  },
  {
   "cell_type": "code",
   "execution_count": 15,
   "metadata": {},
   "outputs": [],
   "source": [
    "df['CATEGORY'] = df['PRICE']\n",
    "def cat_mapper(price):\n",
    "    if price < 10:\n",
    "        return 1\n",
    "    elif 10 <= price < 20:\n",
    "        return 2\n",
    "    elif 20 <= price < 30:\n",
    "        return 3\n",
    "    elif 30 <= price < 40:\n",
    "        return 4\n",
    "    elif price >= 40:\n",
    "        return 5\n",
    "\n",
    "df['CATEGORY'] =  df['CATEGORY'].map(cat_mapper)"
   ]
  },
  {
   "cell_type": "code",
   "execution_count": 16,
   "metadata": {},
   "outputs": [
    {
     "data": {
      "text/html": [
       "<div>\n",
       "<style scoped>\n",
       "    .dataframe tbody tr th:only-of-type {\n",
       "        vertical-align: middle;\n",
       "    }\n",
       "\n",
       "    .dataframe tbody tr th {\n",
       "        vertical-align: top;\n",
       "    }\n",
       "\n",
       "    .dataframe thead th {\n",
       "        text-align: right;\n",
       "    }\n",
       "</style>\n",
       "<table border=\"1\" class=\"dataframe\">\n",
       "  <thead>\n",
       "    <tr style=\"text-align: right;\">\n",
       "      <th></th>\n",
       "      <th>CRIM</th>\n",
       "      <th>ZN</th>\n",
       "      <th>INDUS</th>\n",
       "      <th>POLINDEX</th>\n",
       "      <th>RM</th>\n",
       "      <th>AGE</th>\n",
       "      <th>DIS</th>\n",
       "      <th>HIGHWAYCOUNT</th>\n",
       "      <th>TAX</th>\n",
       "      <th>PTRATIO</th>\n",
       "      <th>IMM</th>\n",
       "      <th>BPL</th>\n",
       "      <th>PRICE</th>\n",
       "      <th>RIVERSIDE</th>\n",
       "      <th>CATEGORY</th>\n",
       "    </tr>\n",
       "  </thead>\n",
       "  <tbody>\n",
       "    <tr>\n",
       "      <th>0</th>\n",
       "      <td>1.026769</td>\n",
       "      <td>1.429034</td>\n",
       "      <td>7.851300</td>\n",
       "      <td>1.134216</td>\n",
       "      <td>6.0</td>\n",
       "      <td>42.0</td>\n",
       "      <td>5.251911</td>\n",
       "      <td>5</td>\n",
       "      <td>279.201277</td>\n",
       "      <td>20.689586</td>\n",
       "      <td>398.811960</td>\n",
       "      <td>10.461456</td>\n",
       "      <td>22.991633</td>\n",
       "      <td>NO</td>\n",
       "      <td>3</td>\n",
       "    </tr>\n",
       "    <tr>\n",
       "      <th>1</th>\n",
       "      <td>0.848089</td>\n",
       "      <td>0.255543</td>\n",
       "      <td>6.263434</td>\n",
       "      <td>1.245993</td>\n",
       "      <td>7.0</td>\n",
       "      <td>63.0</td>\n",
       "      <td>4.305546</td>\n",
       "      <td>8</td>\n",
       "      <td>307.444529</td>\n",
       "      <td>17.465398</td>\n",
       "      <td>377.153649</td>\n",
       "      <td>11.619690</td>\n",
       "      <td>24.551055</td>\n",
       "      <td>NO</td>\n",
       "      <td>3</td>\n",
       "    </tr>\n",
       "    <tr>\n",
       "      <th>2</th>\n",
       "      <td>10.925905</td>\n",
       "      <td>0.441022</td>\n",
       "      <td>18.322960</td>\n",
       "      <td>2.824833</td>\n",
       "      <td>8.0</td>\n",
       "      <td>-2.0</td>\n",
       "      <td>2.409495</td>\n",
       "      <td>25</td>\n",
       "      <td>666.492973</td>\n",
       "      <td>20.351601</td>\n",
       "      <td>387.061355</td>\n",
       "      <td>19.366070</td>\n",
       "      <td>15.875346</td>\n",
       "      <td>NO</td>\n",
       "      <td>2</td>\n",
       "    </tr>\n",
       "    <tr>\n",
       "      <th>3</th>\n",
       "      <td>0.559027</td>\n",
       "      <td>1.041175</td>\n",
       "      <td>11.114920</td>\n",
       "      <td>0.794952</td>\n",
       "      <td>6.0</td>\n",
       "      <td>9.0</td>\n",
       "      <td>6.898669</td>\n",
       "      <td>4</td>\n",
       "      <td>305.514181</td>\n",
       "      <td>19.787314</td>\n",
       "      <td>391.778647</td>\n",
       "      <td>6.206820</td>\n",
       "      <td>23.007756</td>\n",
       "      <td>NO</td>\n",
       "      <td>3</td>\n",
       "    </tr>\n",
       "    <tr>\n",
       "      <th>4</th>\n",
       "      <td>0.905063</td>\n",
       "      <td>81.167963</td>\n",
       "      <td>3.673369</td>\n",
       "      <td>1.029030</td>\n",
       "      <td>8.0</td>\n",
       "      <td>20.0</td>\n",
       "      <td>10.246463</td>\n",
       "      <td>1</td>\n",
       "      <td>315.913960</td>\n",
       "      <td>17.360439</td>\n",
       "      <td>395.833166</td>\n",
       "      <td>10.827105</td>\n",
       "      <td>21.503177</td>\n",
       "      <td>NO</td>\n",
       "      <td>3</td>\n",
       "    </tr>\n",
       "  </tbody>\n",
       "</table>\n",
       "</div>"
      ],
      "text/plain": [
       "        CRIM         ZN      INDUS  POLINDEX   RM   AGE        DIS  \\\n",
       "0   1.026769   1.429034   7.851300  1.134216  6.0  42.0   5.251911   \n",
       "1   0.848089   0.255543   6.263434  1.245993  7.0  63.0   4.305546   \n",
       "2  10.925905   0.441022  18.322960  2.824833  8.0  -2.0   2.409495   \n",
       "3   0.559027   1.041175  11.114920  0.794952  6.0   9.0   6.898669   \n",
       "4   0.905063  81.167963   3.673369  1.029030  8.0  20.0  10.246463   \n",
       "\n",
       "   HIGHWAYCOUNT         TAX    PTRATIO         IMM        BPL      PRICE  \\\n",
       "0             5  279.201277  20.689586  398.811960  10.461456  22.991633   \n",
       "1             8  307.444529  17.465398  377.153649  11.619690  24.551055   \n",
       "2            25  666.492973  20.351601  387.061355  19.366070  15.875346   \n",
       "3             4  305.514181  19.787314  391.778647   6.206820  23.007756   \n",
       "4             1  315.913960  17.360439  395.833166  10.827105  21.503177   \n",
       "\n",
       "  RIVERSIDE  CATEGORY  \n",
       "0        NO         3  \n",
       "1        NO         3  \n",
       "2        NO         2  \n",
       "3        NO         3  \n",
       "4        NO         3  "
      ]
     },
     "execution_count": 16,
     "metadata": {},
     "output_type": "execute_result"
    }
   ],
   "source": [
    "df.head()"
   ]
  },
  {
   "cell_type": "code",
   "execution_count": 17,
   "metadata": {},
   "outputs": [
    {
     "data": {
      "text/plain": [
       "array([3, 2, 5, 4, 1], dtype=int64)"
      ]
     },
     "execution_count": 17,
     "metadata": {},
     "output_type": "execute_result"
    }
   ],
   "source": [
    "df['CATEGORY'].unique()"
   ]
  },
  {
   "cell_type": "code",
   "execution_count": 18,
   "metadata": {},
   "outputs": [
    {
     "data": {
      "text/plain": [
       "CATEGORY\n",
       "3    2028\n",
       "2    1158\n",
       "4     503\n",
       "5     268\n",
       "1      43\n",
       "Name: count, dtype: int64"
      ]
     },
     "execution_count": 18,
     "metadata": {},
     "output_type": "execute_result"
    }
   ],
   "source": [
    "df['CATEGORY'].value_counts()"
   ]
  },
  {
   "cell_type": "markdown",
   "metadata": {},
   "source": [
    "### Preprocessing"
   ]
  },
  {
   "cell_type": "code",
   "execution_count": 19,
   "metadata": {},
   "outputs": [
    {
     "name": "stdout",
     "output_type": "stream",
     "text": [
      "[ 6.  7.  8.  9. 10. -1.  5.  4. 11.]\n",
      "[ 6.  7.  8.  9. 10. nan  5.  4. 11.]\n"
     ]
    },
    {
     "name": "stderr",
     "output_type": "stream",
     "text": [
      "C:\\Users\\91820\\AppData\\Local\\Temp\\ipykernel_7812\\3685077601.py:3: FutureWarning: A value is trying to be set on a copy of a DataFrame or Series through chained assignment using an inplace method.\n",
      "The behavior will change in pandas 3.0. This inplace method will never work because the intermediate object on which we are setting values always behaves as a copy.\n",
      "\n",
      "For example, when doing 'df[col].method(value, inplace=True)', try using 'df.method({col: value}, inplace=True)' or df[col] = df[col].method(value) instead, to perform the operation inplace on the original object.\n",
      "\n",
      "\n",
      "  df['RM'].replace(-1, np.nan, inplace=True)\n"
     ]
    }
   ],
   "source": [
    "# room count, riverside and age with np.nan\n",
    "print(df['RM'].unique())\n",
    "df['RM'].replace(-1, np.nan, inplace=True)\n",
    "print(df['RM'].unique())"
   ]
  },
  {
   "cell_type": "code",
   "execution_count": 20,
   "metadata": {},
   "outputs": [
    {
     "name": "stdout",
     "output_type": "stream",
     "text": [
      "['NO' 'UNKNOWN' 'YES']\n",
      "['NO' nan 'YES']\n"
     ]
    },
    {
     "name": "stderr",
     "output_type": "stream",
     "text": [
      "C:\\Users\\91820\\AppData\\Local\\Temp\\ipykernel_7812\\2468581205.py:2: FutureWarning: A value is trying to be set on a copy of a DataFrame or Series through chained assignment using an inplace method.\n",
      "The behavior will change in pandas 3.0. This inplace method will never work because the intermediate object on which we are setting values always behaves as a copy.\n",
      "\n",
      "For example, when doing 'df[col].method(value, inplace=True)', try using 'df.method({col: value}, inplace=True)' or df[col] = df[col].method(value) instead, to perform the operation inplace on the original object.\n",
      "\n",
      "\n",
      "  df['RIVERSIDE'].replace('UNKNOWN', np.nan, inplace=True)\n"
     ]
    }
   ],
   "source": [
    "print(df['RIVERSIDE'].unique())\n",
    "df['RIVERSIDE'].replace('UNKNOWN', np.nan, inplace=True)\n",
    "print(df['RIVERSIDE'].unique())"
   ]
  },
  {
   "cell_type": "code",
   "execution_count": 21,
   "metadata": {},
   "outputs": [
    {
     "name": "stdout",
     "output_type": "stream",
     "text": [
      "[ 42.  63.  -2.   9.  20.  95.  35.  97.  36.  78.  99.  96.  19.  73.\n",
      "  86.  37.  76.  50.  32.  92. 101.   8.  94.  84.  47.  43.  65.  46.\n",
      "  59.  74.  93.  80.  98. 102.  56. 100.  89.  53.  18.  71.  62.  83.\n",
      "  66.   7.  77.  91.  90.  58.  57.  60.  87.  75.  34.  85.  48.  33.\n",
      "  38.  30.  23.  55.  11.  14.  45.  41.  88.  16.  12.  79.  67.  39.\n",
      "  49.  61.  70.  54.  10.  22.  72.  15.  51.  81.  31.  52.  44.  28.\n",
      "  17.  40.  29.  69.  64.  24.  82.  26.  68.  27.  13. 103.  21.  25.\n",
      "   6.   5.   3.   4.]\n",
      "[ 42.  63.  nan   9.  20.  95.  35.  97.  36.  78.  99.  96.  19.  73.\n",
      "  86.  37.  76.  50.  32.  92. 101.   8.  94.  84.  47.  43.  65.  46.\n",
      "  59.  74.  93.  80.  98. 102.  56. 100.  89.  53.  18.  71.  62.  83.\n",
      "  66.   7.  77.  91.  90.  58.  57.  60.  87.  75.  34.  85.  48.  33.\n",
      "  38.  30.  23.  55.  11.  14.  45.  41.  88.  16.  12.  79.  67.  39.\n",
      "  49.  61.  70.  54.  10.  22.  72.  15.  51.  81.  31.  52.  44.  28.\n",
      "  17.  40.  29.  69.  64.  24.  82.  26.  68.  27.  13. 103.  21.  25.\n",
      "   6.   5.   3.   4.]\n"
     ]
    },
    {
     "name": "stderr",
     "output_type": "stream",
     "text": [
      "C:\\Users\\91820\\AppData\\Local\\Temp\\ipykernel_7812\\3330371073.py:2: FutureWarning: A value is trying to be set on a copy of a DataFrame or Series through chained assignment using an inplace method.\n",
      "The behavior will change in pandas 3.0. This inplace method will never work because the intermediate object on which we are setting values always behaves as a copy.\n",
      "\n",
      "For example, when doing 'df[col].method(value, inplace=True)', try using 'df.method({col: value}, inplace=True)' or df[col] = df[col].method(value) instead, to perform the operation inplace on the original object.\n",
      "\n",
      "\n",
      "  df['AGE'].replace(-2, np.nan, inplace=True)\n"
     ]
    }
   ],
   "source": [
    "print(df['AGE'].unique())\n",
    "df['AGE'].replace(-2, np.nan, inplace=True)\n",
    "print(df['AGE'].unique())"
   ]
  },
  {
   "cell_type": "code",
   "execution_count": 22,
   "metadata": {},
   "outputs": [],
   "source": [
    "from sklearn.model_selection import train_test_split\n",
    "X = df.drop(columns=['PRICE'])\n",
    "y = df['PRICE']\n",
    "X_train, X_test, y_train, y_test = train_test_split(X,y,test_size=0.3, random_state=0)"
   ]
  },
  {
   "cell_type": "code",
   "execution_count": 23,
   "metadata": {},
   "outputs": [
    {
     "data": {
      "text/plain": [
       "(2800, 14)"
      ]
     },
     "execution_count": 23,
     "metadata": {},
     "output_type": "execute_result"
    }
   ],
   "source": [
    "X_train.shape"
   ]
  },
  {
   "cell_type": "code",
   "execution_count": 24,
   "metadata": {},
   "outputs": [
    {
     "data": {
      "text/html": [
       "<style>#sk-container-id-1 {\n",
       "  /* Definition of color scheme common for light and dark mode */\n",
       "  --sklearn-color-text: black;\n",
       "  --sklearn-color-line: gray;\n",
       "  /* Definition of color scheme for unfitted estimators */\n",
       "  --sklearn-color-unfitted-level-0: #fff5e6;\n",
       "  --sklearn-color-unfitted-level-1: #f6e4d2;\n",
       "  --sklearn-color-unfitted-level-2: #ffe0b3;\n",
       "  --sklearn-color-unfitted-level-3: chocolate;\n",
       "  /* Definition of color scheme for fitted estimators */\n",
       "  --sklearn-color-fitted-level-0: #f0f8ff;\n",
       "  --sklearn-color-fitted-level-1: #d4ebff;\n",
       "  --sklearn-color-fitted-level-2: #b3dbfd;\n",
       "  --sklearn-color-fitted-level-3: cornflowerblue;\n",
       "\n",
       "  /* Specific color for light theme */\n",
       "  --sklearn-color-text-on-default-background: var(--sg-text-color, var(--theme-code-foreground, var(--jp-content-font-color1, black)));\n",
       "  --sklearn-color-background: var(--sg-background-color, var(--theme-background, var(--jp-layout-color0, white)));\n",
       "  --sklearn-color-border-box: var(--sg-text-color, var(--theme-code-foreground, var(--jp-content-font-color1, black)));\n",
       "  --sklearn-color-icon: #696969;\n",
       "\n",
       "  @media (prefers-color-scheme: dark) {\n",
       "    /* Redefinition of color scheme for dark theme */\n",
       "    --sklearn-color-text-on-default-background: var(--sg-text-color, var(--theme-code-foreground, var(--jp-content-font-color1, white)));\n",
       "    --sklearn-color-background: var(--sg-background-color, var(--theme-background, var(--jp-layout-color0, #111)));\n",
       "    --sklearn-color-border-box: var(--sg-text-color, var(--theme-code-foreground, var(--jp-content-font-color1, white)));\n",
       "    --sklearn-color-icon: #878787;\n",
       "  }\n",
       "}\n",
       "\n",
       "#sk-container-id-1 {\n",
       "  color: var(--sklearn-color-text);\n",
       "}\n",
       "\n",
       "#sk-container-id-1 pre {\n",
       "  padding: 0;\n",
       "}\n",
       "\n",
       "#sk-container-id-1 input.sk-hidden--visually {\n",
       "  border: 0;\n",
       "  clip: rect(1px 1px 1px 1px);\n",
       "  clip: rect(1px, 1px, 1px, 1px);\n",
       "  height: 1px;\n",
       "  margin: -1px;\n",
       "  overflow: hidden;\n",
       "  padding: 0;\n",
       "  position: absolute;\n",
       "  width: 1px;\n",
       "}\n",
       "\n",
       "#sk-container-id-1 div.sk-dashed-wrapped {\n",
       "  border: 1px dashed var(--sklearn-color-line);\n",
       "  margin: 0 0.4em 0.5em 0.4em;\n",
       "  box-sizing: border-box;\n",
       "  padding-bottom: 0.4em;\n",
       "  background-color: var(--sklearn-color-background);\n",
       "}\n",
       "\n",
       "#sk-container-id-1 div.sk-container {\n",
       "  /* jupyter's `normalize.less` sets `[hidden] { display: none; }`\n",
       "     but bootstrap.min.css set `[hidden] { display: none !important; }`\n",
       "     so we also need the `!important` here to be able to override the\n",
       "     default hidden behavior on the sphinx rendered scikit-learn.org.\n",
       "     See: https://github.com/scikit-learn/scikit-learn/issues/21755 */\n",
       "  display: inline-block !important;\n",
       "  position: relative;\n",
       "}\n",
       "\n",
       "#sk-container-id-1 div.sk-text-repr-fallback {\n",
       "  display: none;\n",
       "}\n",
       "\n",
       "div.sk-parallel-item,\n",
       "div.sk-serial,\n",
       "div.sk-item {\n",
       "  /* draw centered vertical line to link estimators */\n",
       "  background-image: linear-gradient(var(--sklearn-color-text-on-default-background), var(--sklearn-color-text-on-default-background));\n",
       "  background-size: 2px 100%;\n",
       "  background-repeat: no-repeat;\n",
       "  background-position: center center;\n",
       "}\n",
       "\n",
       "/* Parallel-specific style estimator block */\n",
       "\n",
       "#sk-container-id-1 div.sk-parallel-item::after {\n",
       "  content: \"\";\n",
       "  width: 100%;\n",
       "  border-bottom: 2px solid var(--sklearn-color-text-on-default-background);\n",
       "  flex-grow: 1;\n",
       "}\n",
       "\n",
       "#sk-container-id-1 div.sk-parallel {\n",
       "  display: flex;\n",
       "  align-items: stretch;\n",
       "  justify-content: center;\n",
       "  background-color: var(--sklearn-color-background);\n",
       "  position: relative;\n",
       "}\n",
       "\n",
       "#sk-container-id-1 div.sk-parallel-item {\n",
       "  display: flex;\n",
       "  flex-direction: column;\n",
       "}\n",
       "\n",
       "#sk-container-id-1 div.sk-parallel-item:first-child::after {\n",
       "  align-self: flex-end;\n",
       "  width: 50%;\n",
       "}\n",
       "\n",
       "#sk-container-id-1 div.sk-parallel-item:last-child::after {\n",
       "  align-self: flex-start;\n",
       "  width: 50%;\n",
       "}\n",
       "\n",
       "#sk-container-id-1 div.sk-parallel-item:only-child::after {\n",
       "  width: 0;\n",
       "}\n",
       "\n",
       "/* Serial-specific style estimator block */\n",
       "\n",
       "#sk-container-id-1 div.sk-serial {\n",
       "  display: flex;\n",
       "  flex-direction: column;\n",
       "  align-items: center;\n",
       "  background-color: var(--sklearn-color-background);\n",
       "  padding-right: 1em;\n",
       "  padding-left: 1em;\n",
       "}\n",
       "\n",
       "\n",
       "/* Toggleable style: style used for estimator/Pipeline/ColumnTransformer box that is\n",
       "clickable and can be expanded/collapsed.\n",
       "- Pipeline and ColumnTransformer use this feature and define the default style\n",
       "- Estimators will overwrite some part of the style using the `sk-estimator` class\n",
       "*/\n",
       "\n",
       "/* Pipeline and ColumnTransformer style (default) */\n",
       "\n",
       "#sk-container-id-1 div.sk-toggleable {\n",
       "  /* Default theme specific background. It is overwritten whether we have a\n",
       "  specific estimator or a Pipeline/ColumnTransformer */\n",
       "  background-color: var(--sklearn-color-background);\n",
       "}\n",
       "\n",
       "/* Toggleable label */\n",
       "#sk-container-id-1 label.sk-toggleable__label {\n",
       "  cursor: pointer;\n",
       "  display: block;\n",
       "  width: 100%;\n",
       "  margin-bottom: 0;\n",
       "  padding: 0.5em;\n",
       "  box-sizing: border-box;\n",
       "  text-align: center;\n",
       "}\n",
       "\n",
       "#sk-container-id-1 label.sk-toggleable__label-arrow:before {\n",
       "  /* Arrow on the left of the label */\n",
       "  content: \"▸\";\n",
       "  float: left;\n",
       "  margin-right: 0.25em;\n",
       "  color: var(--sklearn-color-icon);\n",
       "}\n",
       "\n",
       "#sk-container-id-1 label.sk-toggleable__label-arrow:hover:before {\n",
       "  color: var(--sklearn-color-text);\n",
       "}\n",
       "\n",
       "/* Toggleable content - dropdown */\n",
       "\n",
       "#sk-container-id-1 div.sk-toggleable__content {\n",
       "  max-height: 0;\n",
       "  max-width: 0;\n",
       "  overflow: hidden;\n",
       "  text-align: left;\n",
       "  /* unfitted */\n",
       "  background-color: var(--sklearn-color-unfitted-level-0);\n",
       "}\n",
       "\n",
       "#sk-container-id-1 div.sk-toggleable__content.fitted {\n",
       "  /* fitted */\n",
       "  background-color: var(--sklearn-color-fitted-level-0);\n",
       "}\n",
       "\n",
       "#sk-container-id-1 div.sk-toggleable__content pre {\n",
       "  margin: 0.2em;\n",
       "  border-radius: 0.25em;\n",
       "  color: var(--sklearn-color-text);\n",
       "  /* unfitted */\n",
       "  background-color: var(--sklearn-color-unfitted-level-0);\n",
       "}\n",
       "\n",
       "#sk-container-id-1 div.sk-toggleable__content.fitted pre {\n",
       "  /* unfitted */\n",
       "  background-color: var(--sklearn-color-fitted-level-0);\n",
       "}\n",
       "\n",
       "#sk-container-id-1 input.sk-toggleable__control:checked~div.sk-toggleable__content {\n",
       "  /* Expand drop-down */\n",
       "  max-height: 200px;\n",
       "  max-width: 100%;\n",
       "  overflow: auto;\n",
       "}\n",
       "\n",
       "#sk-container-id-1 input.sk-toggleable__control:checked~label.sk-toggleable__label-arrow:before {\n",
       "  content: \"▾\";\n",
       "}\n",
       "\n",
       "/* Pipeline/ColumnTransformer-specific style */\n",
       "\n",
       "#sk-container-id-1 div.sk-label input.sk-toggleable__control:checked~label.sk-toggleable__label {\n",
       "  color: var(--sklearn-color-text);\n",
       "  background-color: var(--sklearn-color-unfitted-level-2);\n",
       "}\n",
       "\n",
       "#sk-container-id-1 div.sk-label.fitted input.sk-toggleable__control:checked~label.sk-toggleable__label {\n",
       "  background-color: var(--sklearn-color-fitted-level-2);\n",
       "}\n",
       "\n",
       "/* Estimator-specific style */\n",
       "\n",
       "/* Colorize estimator box */\n",
       "#sk-container-id-1 div.sk-estimator input.sk-toggleable__control:checked~label.sk-toggleable__label {\n",
       "  /* unfitted */\n",
       "  background-color: var(--sklearn-color-unfitted-level-2);\n",
       "}\n",
       "\n",
       "#sk-container-id-1 div.sk-estimator.fitted input.sk-toggleable__control:checked~label.sk-toggleable__label {\n",
       "  /* fitted */\n",
       "  background-color: var(--sklearn-color-fitted-level-2);\n",
       "}\n",
       "\n",
       "#sk-container-id-1 div.sk-label label.sk-toggleable__label,\n",
       "#sk-container-id-1 div.sk-label label {\n",
       "  /* The background is the default theme color */\n",
       "  color: var(--sklearn-color-text-on-default-background);\n",
       "}\n",
       "\n",
       "/* On hover, darken the color of the background */\n",
       "#sk-container-id-1 div.sk-label:hover label.sk-toggleable__label {\n",
       "  color: var(--sklearn-color-text);\n",
       "  background-color: var(--sklearn-color-unfitted-level-2);\n",
       "}\n",
       "\n",
       "/* Label box, darken color on hover, fitted */\n",
       "#sk-container-id-1 div.sk-label.fitted:hover label.sk-toggleable__label.fitted {\n",
       "  color: var(--sklearn-color-text);\n",
       "  background-color: var(--sklearn-color-fitted-level-2);\n",
       "}\n",
       "\n",
       "/* Estimator label */\n",
       "\n",
       "#sk-container-id-1 div.sk-label label {\n",
       "  font-family: monospace;\n",
       "  font-weight: bold;\n",
       "  display: inline-block;\n",
       "  line-height: 1.2em;\n",
       "}\n",
       "\n",
       "#sk-container-id-1 div.sk-label-container {\n",
       "  text-align: center;\n",
       "}\n",
       "\n",
       "/* Estimator-specific */\n",
       "#sk-container-id-1 div.sk-estimator {\n",
       "  font-family: monospace;\n",
       "  border: 1px dotted var(--sklearn-color-border-box);\n",
       "  border-radius: 0.25em;\n",
       "  box-sizing: border-box;\n",
       "  margin-bottom: 0.5em;\n",
       "  /* unfitted */\n",
       "  background-color: var(--sklearn-color-unfitted-level-0);\n",
       "}\n",
       "\n",
       "#sk-container-id-1 div.sk-estimator.fitted {\n",
       "  /* fitted */\n",
       "  background-color: var(--sklearn-color-fitted-level-0);\n",
       "}\n",
       "\n",
       "/* on hover */\n",
       "#sk-container-id-1 div.sk-estimator:hover {\n",
       "  /* unfitted */\n",
       "  background-color: var(--sklearn-color-unfitted-level-2);\n",
       "}\n",
       "\n",
       "#sk-container-id-1 div.sk-estimator.fitted:hover {\n",
       "  /* fitted */\n",
       "  background-color: var(--sklearn-color-fitted-level-2);\n",
       "}\n",
       "\n",
       "/* Specification for estimator info (e.g. \"i\" and \"?\") */\n",
       "\n",
       "/* Common style for \"i\" and \"?\" */\n",
       "\n",
       ".sk-estimator-doc-link,\n",
       "a:link.sk-estimator-doc-link,\n",
       "a:visited.sk-estimator-doc-link {\n",
       "  float: right;\n",
       "  font-size: smaller;\n",
       "  line-height: 1em;\n",
       "  font-family: monospace;\n",
       "  background-color: var(--sklearn-color-background);\n",
       "  border-radius: 1em;\n",
       "  height: 1em;\n",
       "  width: 1em;\n",
       "  text-decoration: none !important;\n",
       "  margin-left: 1ex;\n",
       "  /* unfitted */\n",
       "  border: var(--sklearn-color-unfitted-level-1) 1pt solid;\n",
       "  color: var(--sklearn-color-unfitted-level-1);\n",
       "}\n",
       "\n",
       ".sk-estimator-doc-link.fitted,\n",
       "a:link.sk-estimator-doc-link.fitted,\n",
       "a:visited.sk-estimator-doc-link.fitted {\n",
       "  /* fitted */\n",
       "  border: var(--sklearn-color-fitted-level-1) 1pt solid;\n",
       "  color: var(--sklearn-color-fitted-level-1);\n",
       "}\n",
       "\n",
       "/* On hover */\n",
       "div.sk-estimator:hover .sk-estimator-doc-link:hover,\n",
       ".sk-estimator-doc-link:hover,\n",
       "div.sk-label-container:hover .sk-estimator-doc-link:hover,\n",
       ".sk-estimator-doc-link:hover {\n",
       "  /* unfitted */\n",
       "  background-color: var(--sklearn-color-unfitted-level-3);\n",
       "  color: var(--sklearn-color-background);\n",
       "  text-decoration: none;\n",
       "}\n",
       "\n",
       "div.sk-estimator.fitted:hover .sk-estimator-doc-link.fitted:hover,\n",
       ".sk-estimator-doc-link.fitted:hover,\n",
       "div.sk-label-container:hover .sk-estimator-doc-link.fitted:hover,\n",
       ".sk-estimator-doc-link.fitted:hover {\n",
       "  /* fitted */\n",
       "  background-color: var(--sklearn-color-fitted-level-3);\n",
       "  color: var(--sklearn-color-background);\n",
       "  text-decoration: none;\n",
       "}\n",
       "\n",
       "/* Span, style for the box shown on hovering the info icon */\n",
       ".sk-estimator-doc-link span {\n",
       "  display: none;\n",
       "  z-index: 9999;\n",
       "  position: relative;\n",
       "  font-weight: normal;\n",
       "  right: .2ex;\n",
       "  padding: .5ex;\n",
       "  margin: .5ex;\n",
       "  width: min-content;\n",
       "  min-width: 20ex;\n",
       "  max-width: 50ex;\n",
       "  color: var(--sklearn-color-text);\n",
       "  box-shadow: 2pt 2pt 4pt #999;\n",
       "  /* unfitted */\n",
       "  background: var(--sklearn-color-unfitted-level-0);\n",
       "  border: .5pt solid var(--sklearn-color-unfitted-level-3);\n",
       "}\n",
       "\n",
       ".sk-estimator-doc-link.fitted span {\n",
       "  /* fitted */\n",
       "  background: var(--sklearn-color-fitted-level-0);\n",
       "  border: var(--sklearn-color-fitted-level-3);\n",
       "}\n",
       "\n",
       ".sk-estimator-doc-link:hover span {\n",
       "  display: block;\n",
       "}\n",
       "\n",
       "/* \"?\"-specific style due to the `<a>` HTML tag */\n",
       "\n",
       "#sk-container-id-1 a.estimator_doc_link {\n",
       "  float: right;\n",
       "  font-size: 1rem;\n",
       "  line-height: 1em;\n",
       "  font-family: monospace;\n",
       "  background-color: var(--sklearn-color-background);\n",
       "  border-radius: 1rem;\n",
       "  height: 1rem;\n",
       "  width: 1rem;\n",
       "  text-decoration: none;\n",
       "  /* unfitted */\n",
       "  color: var(--sklearn-color-unfitted-level-1);\n",
       "  border: var(--sklearn-color-unfitted-level-1) 1pt solid;\n",
       "}\n",
       "\n",
       "#sk-container-id-1 a.estimator_doc_link.fitted {\n",
       "  /* fitted */\n",
       "  border: var(--sklearn-color-fitted-level-1) 1pt solid;\n",
       "  color: var(--sklearn-color-fitted-level-1);\n",
       "}\n",
       "\n",
       "/* On hover */\n",
       "#sk-container-id-1 a.estimator_doc_link:hover {\n",
       "  /* unfitted */\n",
       "  background-color: var(--sklearn-color-unfitted-level-3);\n",
       "  color: var(--sklearn-color-background);\n",
       "  text-decoration: none;\n",
       "}\n",
       "\n",
       "#sk-container-id-1 a.estimator_doc_link.fitted:hover {\n",
       "  /* fitted */\n",
       "  background-color: var(--sklearn-color-fitted-level-3);\n",
       "}\n",
       "</style><div id=\"sk-container-id-1\" class=\"sk-top-container\"><div class=\"sk-text-repr-fallback\"><pre>ColumnTransformer(transformers=[(&#x27;minmax&#x27;, MinMaxScaler(),\n",
       "                                 [&#x27;CRIM&#x27;, &#x27;ZN&#x27;, &#x27;POLINDEX&#x27;, &#x27;DIS&#x27;,\n",
       "                                  &#x27;HIGHWAYCOUNT&#x27;, &#x27;TAX&#x27;, &#x27;PTRATIO&#x27;, &#x27;IMM&#x27;,\n",
       "                                  &#x27;BPL&#x27;]),\n",
       "                                (&#x27;std&#x27;, StandardScaler(), [&#x27;INDUS&#x27;]),\n",
       "                                (&#x27;rm&#x27;,\n",
       "                                 Pipeline(steps=[(&#x27;imputer&#x27;,\n",
       "                                                  SimpleImputer(strategy=&#x27;median&#x27;)),\n",
       "                                                 (&#x27;scaler&#x27;, MinMaxScaler())]),\n",
       "                                 [&#x27;RM&#x27;]),\n",
       "                                (&#x27;age&#x27;,\n",
       "                                 Pipeline(steps=[(&#x27;imputer&#x27;, SimpleImputer()),\n",
       "                                                 (&#x27;scaler&#x27;, MinMaxScaler())]),\n",
       "                                 [&#x27;AGE&#x27;]),\n",
       "                                (&#x27;riverside&#x27;,\n",
       "                                 Pipeline(steps=[(&#x27;imputer&#x27;,\n",
       "                                                  SimpleImputer(strategy=&#x27;most_frequent&#x27;)),\n",
       "                                                 (&#x27;encoder&#x27;,\n",
       "                                                  OneHotEncoder(sparse_output=False))]),\n",
       "                                 [&#x27;RIVERSIDE&#x27;])])</pre><b>In a Jupyter environment, please rerun this cell to show the HTML representation or trust the notebook. <br />On GitHub, the HTML representation is unable to render, please try loading this page with nbviewer.org.</b></div><div class=\"sk-container\" hidden><div class=\"sk-item sk-dashed-wrapped\"><div class=\"sk-label-container\"><div class=\"sk-label  sk-toggleable\"><input class=\"sk-toggleable__control sk-hidden--visually\" id=\"sk-estimator-id-1\" type=\"checkbox\" ><label for=\"sk-estimator-id-1\" class=\"sk-toggleable__label  sk-toggleable__label-arrow \">&nbsp;&nbsp;ColumnTransformer<a class=\"sk-estimator-doc-link \" rel=\"noreferrer\" target=\"_blank\" href=\"https://scikit-learn.org/1.4/modules/generated/sklearn.compose.ColumnTransformer.html\">?<span>Documentation for ColumnTransformer</span></a><span class=\"sk-estimator-doc-link \">i<span>Not fitted</span></span></label><div class=\"sk-toggleable__content \"><pre>ColumnTransformer(transformers=[(&#x27;minmax&#x27;, MinMaxScaler(),\n",
       "                                 [&#x27;CRIM&#x27;, &#x27;ZN&#x27;, &#x27;POLINDEX&#x27;, &#x27;DIS&#x27;,\n",
       "                                  &#x27;HIGHWAYCOUNT&#x27;, &#x27;TAX&#x27;, &#x27;PTRATIO&#x27;, &#x27;IMM&#x27;,\n",
       "                                  &#x27;BPL&#x27;]),\n",
       "                                (&#x27;std&#x27;, StandardScaler(), [&#x27;INDUS&#x27;]),\n",
       "                                (&#x27;rm&#x27;,\n",
       "                                 Pipeline(steps=[(&#x27;imputer&#x27;,\n",
       "                                                  SimpleImputer(strategy=&#x27;median&#x27;)),\n",
       "                                                 (&#x27;scaler&#x27;, MinMaxScaler())]),\n",
       "                                 [&#x27;RM&#x27;]),\n",
       "                                (&#x27;age&#x27;,\n",
       "                                 Pipeline(steps=[(&#x27;imputer&#x27;, SimpleImputer()),\n",
       "                                                 (&#x27;scaler&#x27;, MinMaxScaler())]),\n",
       "                                 [&#x27;AGE&#x27;]),\n",
       "                                (&#x27;riverside&#x27;,\n",
       "                                 Pipeline(steps=[(&#x27;imputer&#x27;,\n",
       "                                                  SimpleImputer(strategy=&#x27;most_frequent&#x27;)),\n",
       "                                                 (&#x27;encoder&#x27;,\n",
       "                                                  OneHotEncoder(sparse_output=False))]),\n",
       "                                 [&#x27;RIVERSIDE&#x27;])])</pre></div> </div></div><div class=\"sk-parallel\"><div class=\"sk-parallel-item\"><div class=\"sk-item\"><div class=\"sk-label-container\"><div class=\"sk-label  sk-toggleable\"><input class=\"sk-toggleable__control sk-hidden--visually\" id=\"sk-estimator-id-2\" type=\"checkbox\" ><label for=\"sk-estimator-id-2\" class=\"sk-toggleable__label  sk-toggleable__label-arrow \">minmax</label><div class=\"sk-toggleable__content \"><pre>[&#x27;CRIM&#x27;, &#x27;ZN&#x27;, &#x27;POLINDEX&#x27;, &#x27;DIS&#x27;, &#x27;HIGHWAYCOUNT&#x27;, &#x27;TAX&#x27;, &#x27;PTRATIO&#x27;, &#x27;IMM&#x27;, &#x27;BPL&#x27;]</pre></div> </div></div><div class=\"sk-serial\"><div class=\"sk-item\"><div class=\"sk-estimator  sk-toggleable\"><input class=\"sk-toggleable__control sk-hidden--visually\" id=\"sk-estimator-id-3\" type=\"checkbox\" ><label for=\"sk-estimator-id-3\" class=\"sk-toggleable__label  sk-toggleable__label-arrow \">&nbsp;MinMaxScaler<a class=\"sk-estimator-doc-link \" rel=\"noreferrer\" target=\"_blank\" href=\"https://scikit-learn.org/1.4/modules/generated/sklearn.preprocessing.MinMaxScaler.html\">?<span>Documentation for MinMaxScaler</span></a></label><div class=\"sk-toggleable__content \"><pre>MinMaxScaler()</pre></div> </div></div></div></div></div><div class=\"sk-parallel-item\"><div class=\"sk-item\"><div class=\"sk-label-container\"><div class=\"sk-label  sk-toggleable\"><input class=\"sk-toggleable__control sk-hidden--visually\" id=\"sk-estimator-id-4\" type=\"checkbox\" ><label for=\"sk-estimator-id-4\" class=\"sk-toggleable__label  sk-toggleable__label-arrow \">std</label><div class=\"sk-toggleable__content \"><pre>[&#x27;INDUS&#x27;]</pre></div> </div></div><div class=\"sk-serial\"><div class=\"sk-item\"><div class=\"sk-estimator  sk-toggleable\"><input class=\"sk-toggleable__control sk-hidden--visually\" id=\"sk-estimator-id-5\" type=\"checkbox\" ><label for=\"sk-estimator-id-5\" class=\"sk-toggleable__label  sk-toggleable__label-arrow \">&nbsp;StandardScaler<a class=\"sk-estimator-doc-link \" rel=\"noreferrer\" target=\"_blank\" href=\"https://scikit-learn.org/1.4/modules/generated/sklearn.preprocessing.StandardScaler.html\">?<span>Documentation for StandardScaler</span></a></label><div class=\"sk-toggleable__content \"><pre>StandardScaler()</pre></div> </div></div></div></div></div><div class=\"sk-parallel-item\"><div class=\"sk-item\"><div class=\"sk-label-container\"><div class=\"sk-label  sk-toggleable\"><input class=\"sk-toggleable__control sk-hidden--visually\" id=\"sk-estimator-id-6\" type=\"checkbox\" ><label for=\"sk-estimator-id-6\" class=\"sk-toggleable__label  sk-toggleable__label-arrow \">rm</label><div class=\"sk-toggleable__content \"><pre>[&#x27;RM&#x27;]</pre></div> </div></div><div class=\"sk-serial\"><div class=\"sk-item\"><div class=\"sk-serial\"><div class=\"sk-item\"><div class=\"sk-estimator  sk-toggleable\"><input class=\"sk-toggleable__control sk-hidden--visually\" id=\"sk-estimator-id-7\" type=\"checkbox\" ><label for=\"sk-estimator-id-7\" class=\"sk-toggleable__label  sk-toggleable__label-arrow \">&nbsp;SimpleImputer<a class=\"sk-estimator-doc-link \" rel=\"noreferrer\" target=\"_blank\" href=\"https://scikit-learn.org/1.4/modules/generated/sklearn.impute.SimpleImputer.html\">?<span>Documentation for SimpleImputer</span></a></label><div class=\"sk-toggleable__content \"><pre>SimpleImputer(strategy=&#x27;median&#x27;)</pre></div> </div></div><div class=\"sk-item\"><div class=\"sk-estimator  sk-toggleable\"><input class=\"sk-toggleable__control sk-hidden--visually\" id=\"sk-estimator-id-8\" type=\"checkbox\" ><label for=\"sk-estimator-id-8\" class=\"sk-toggleable__label  sk-toggleable__label-arrow \">&nbsp;MinMaxScaler<a class=\"sk-estimator-doc-link \" rel=\"noreferrer\" target=\"_blank\" href=\"https://scikit-learn.org/1.4/modules/generated/sklearn.preprocessing.MinMaxScaler.html\">?<span>Documentation for MinMaxScaler</span></a></label><div class=\"sk-toggleable__content \"><pre>MinMaxScaler()</pre></div> </div></div></div></div></div></div></div><div class=\"sk-parallel-item\"><div class=\"sk-item\"><div class=\"sk-label-container\"><div class=\"sk-label  sk-toggleable\"><input class=\"sk-toggleable__control sk-hidden--visually\" id=\"sk-estimator-id-9\" type=\"checkbox\" ><label for=\"sk-estimator-id-9\" class=\"sk-toggleable__label  sk-toggleable__label-arrow \">age</label><div class=\"sk-toggleable__content \"><pre>[&#x27;AGE&#x27;]</pre></div> </div></div><div class=\"sk-serial\"><div class=\"sk-item\"><div class=\"sk-serial\"><div class=\"sk-item\"><div class=\"sk-estimator  sk-toggleable\"><input class=\"sk-toggleable__control sk-hidden--visually\" id=\"sk-estimator-id-10\" type=\"checkbox\" ><label for=\"sk-estimator-id-10\" class=\"sk-toggleable__label  sk-toggleable__label-arrow \">&nbsp;SimpleImputer<a class=\"sk-estimator-doc-link \" rel=\"noreferrer\" target=\"_blank\" href=\"https://scikit-learn.org/1.4/modules/generated/sklearn.impute.SimpleImputer.html\">?<span>Documentation for SimpleImputer</span></a></label><div class=\"sk-toggleable__content \"><pre>SimpleImputer()</pre></div> </div></div><div class=\"sk-item\"><div class=\"sk-estimator  sk-toggleable\"><input class=\"sk-toggleable__control sk-hidden--visually\" id=\"sk-estimator-id-11\" type=\"checkbox\" ><label for=\"sk-estimator-id-11\" class=\"sk-toggleable__label  sk-toggleable__label-arrow \">&nbsp;MinMaxScaler<a class=\"sk-estimator-doc-link \" rel=\"noreferrer\" target=\"_blank\" href=\"https://scikit-learn.org/1.4/modules/generated/sklearn.preprocessing.MinMaxScaler.html\">?<span>Documentation for MinMaxScaler</span></a></label><div class=\"sk-toggleable__content \"><pre>MinMaxScaler()</pre></div> </div></div></div></div></div></div></div><div class=\"sk-parallel-item\"><div class=\"sk-item\"><div class=\"sk-label-container\"><div class=\"sk-label  sk-toggleable\"><input class=\"sk-toggleable__control sk-hidden--visually\" id=\"sk-estimator-id-12\" type=\"checkbox\" ><label for=\"sk-estimator-id-12\" class=\"sk-toggleable__label  sk-toggleable__label-arrow \">riverside</label><div class=\"sk-toggleable__content \"><pre>[&#x27;RIVERSIDE&#x27;]</pre></div> </div></div><div class=\"sk-serial\"><div class=\"sk-item\"><div class=\"sk-serial\"><div class=\"sk-item\"><div class=\"sk-estimator  sk-toggleable\"><input class=\"sk-toggleable__control sk-hidden--visually\" id=\"sk-estimator-id-13\" type=\"checkbox\" ><label for=\"sk-estimator-id-13\" class=\"sk-toggleable__label  sk-toggleable__label-arrow \">&nbsp;SimpleImputer<a class=\"sk-estimator-doc-link \" rel=\"noreferrer\" target=\"_blank\" href=\"https://scikit-learn.org/1.4/modules/generated/sklearn.impute.SimpleImputer.html\">?<span>Documentation for SimpleImputer</span></a></label><div class=\"sk-toggleable__content \"><pre>SimpleImputer(strategy=&#x27;most_frequent&#x27;)</pre></div> </div></div><div class=\"sk-item\"><div class=\"sk-estimator  sk-toggleable\"><input class=\"sk-toggleable__control sk-hidden--visually\" id=\"sk-estimator-id-14\" type=\"checkbox\" ><label for=\"sk-estimator-id-14\" class=\"sk-toggleable__label  sk-toggleable__label-arrow \">&nbsp;OneHotEncoder<a class=\"sk-estimator-doc-link \" rel=\"noreferrer\" target=\"_blank\" href=\"https://scikit-learn.org/1.4/modules/generated/sklearn.preprocessing.OneHotEncoder.html\">?<span>Documentation for OneHotEncoder</span></a></label><div class=\"sk-toggleable__content \"><pre>OneHotEncoder(sparse_output=False)</pre></div> </div></div></div></div></div></div></div></div></div></div></div>"
      ],
      "text/plain": [
       "ColumnTransformer(transformers=[('minmax', MinMaxScaler(),\n",
       "                                 ['CRIM', 'ZN', 'POLINDEX', 'DIS',\n",
       "                                  'HIGHWAYCOUNT', 'TAX', 'PTRATIO', 'IMM',\n",
       "                                  'BPL']),\n",
       "                                ('std', StandardScaler(), ['INDUS']),\n",
       "                                ('rm',\n",
       "                                 Pipeline(steps=[('imputer',\n",
       "                                                  SimpleImputer(strategy='median')),\n",
       "                                                 ('scaler', MinMaxScaler())]),\n",
       "                                 ['RM']),\n",
       "                                ('age',\n",
       "                                 Pipeline(steps=[('imputer', SimpleImputer()),\n",
       "                                                 ('scaler', MinMaxScaler())]),\n",
       "                                 ['AGE']),\n",
       "                                ('riverside',\n",
       "                                 Pipeline(steps=[('imputer',\n",
       "                                                  SimpleImputer(strategy='most_frequent')),\n",
       "                                                 ('encoder',\n",
       "                                                  OneHotEncoder(sparse_output=False))]),\n",
       "                                 ['RIVERSIDE'])])"
      ]
     },
     "execution_count": 24,
     "metadata": {},
     "output_type": "execute_result"
    }
   ],
   "source": [
    "from sklearn.compose import ColumnTransformer\n",
    "from sklearn.impute import SimpleImputer\n",
    "from sklearn.preprocessing import MinMaxScaler, OneHotEncoder, StandardScaler\n",
    "from sklearn.pipeline import Pipeline\n",
    "\n",
    "# Step 1: Drop CATEGORY column\n",
    "\n",
    "# Steps 2, 3, 5-11: Min Max Scaling for specified columns\n",
    "columns_scaler_min_max = ['CRIM', 'ZN', 'POLINDEX', 'DIS', 'HIGHWAYCOUNT', 'TAX', 'PTRATIO', 'IMM', 'BPL']\n",
    "\n",
    "# Step 4: Standard Scaling for INDUS\n",
    "columns_scalar_standard = ['INDUS']\n",
    "\n",
    "# Step 12: Impute with median then Min Max Scaling for RM\n",
    "rm_pipeline = Pipeline([\n",
    "    ('imputer', SimpleImputer(strategy='median')),\n",
    "    ('scaler', MinMaxScaler())\n",
    "])\n",
    "\n",
    "# Step 13: Impute with mean then Min Max Scaling for AGE\n",
    "age_pipeline = Pipeline([\n",
    "    ('imputer', SimpleImputer(strategy='mean')),\n",
    "    ('scaler', MinMaxScaler())\n",
    "])\n",
    "\n",
    "# Step 14: Impute with most frequent then one hot encode for RIVERSIDE\n",
    "riverside_pipeline = Pipeline([\n",
    "    ('imputer', SimpleImputer(strategy='most_frequent')),\n",
    "    ('encoder', OneHotEncoder(sparse_output=False))\n",
    "])\n",
    "\n",
    "# Combine into a ColumnTransformer\n",
    "preprocessor = ColumnTransformer([\n",
    "    ('minmax',      MinMaxScaler(),     columns_scaler_min_max),\n",
    "    ('std',         StandardScaler(),   columns_scalar_standard),\n",
    "    ('rm',          rm_pipeline,        ['RM']),\n",
    "    ('age',         age_pipeline,       ['AGE']),\n",
    "    ('riverside',   riverside_pipeline, ['RIVERSIDE'])\n",
    "])\n",
    "\n",
    "preprocessor.set_output(transform='pandas')"
   ]
  },
  {
   "cell_type": "code",
   "execution_count": 25,
   "metadata": {},
   "outputs": [
    {
     "data": {
      "text/html": [
       "<div>\n",
       "<style scoped>\n",
       "    .dataframe tbody tr th:only-of-type {\n",
       "        vertical-align: middle;\n",
       "    }\n",
       "\n",
       "    .dataframe tbody tr th {\n",
       "        vertical-align: top;\n",
       "    }\n",
       "\n",
       "    .dataframe thead th {\n",
       "        text-align: right;\n",
       "    }\n",
       "</style>\n",
       "<table border=\"1\" class=\"dataframe\">\n",
       "  <thead>\n",
       "    <tr style=\"text-align: right;\">\n",
       "      <th></th>\n",
       "      <th>minmax__CRIM</th>\n",
       "      <th>minmax__ZN</th>\n",
       "      <th>minmax__POLINDEX</th>\n",
       "      <th>minmax__DIS</th>\n",
       "      <th>minmax__HIGHWAYCOUNT</th>\n",
       "      <th>minmax__TAX</th>\n",
       "      <th>minmax__PTRATIO</th>\n",
       "      <th>minmax__IMM</th>\n",
       "      <th>minmax__BPL</th>\n",
       "      <th>std__INDUS</th>\n",
       "      <th>rm__RM</th>\n",
       "      <th>age__AGE</th>\n",
       "      <th>riverside__RIVERSIDE_NO</th>\n",
       "      <th>riverside__RIVERSIDE_YES</th>\n",
       "    </tr>\n",
       "  </thead>\n",
       "  <tbody>\n",
       "    <tr>\n",
       "      <th>3336</th>\n",
       "      <td>0.189700</td>\n",
       "      <td>0.004561</td>\n",
       "      <td>0.033842</td>\n",
       "      <td>0.124347</td>\n",
       "      <td>0.192308</td>\n",
       "      <td>0.374853</td>\n",
       "      <td>0.829378</td>\n",
       "      <td>0.989745</td>\n",
       "      <td>0.419050</td>\n",
       "      <td>-0.239852</td>\n",
       "      <td>0.428571</td>\n",
       "      <td>0.860000</td>\n",
       "      <td>1.0</td>\n",
       "      <td>0.0</td>\n",
       "    </tr>\n",
       "    <tr>\n",
       "      <th>2540</th>\n",
       "      <td>0.036362</td>\n",
       "      <td>0.202330</td>\n",
       "      <td>0.162887</td>\n",
       "      <td>0.271862</td>\n",
       "      <td>0.115385</td>\n",
       "      <td>0.069331</td>\n",
       "      <td>0.690556</td>\n",
       "      <td>0.976549</td>\n",
       "      <td>0.140763</td>\n",
       "      <td>-0.529958</td>\n",
       "      <td>0.571429</td>\n",
       "      <td>0.640453</td>\n",
       "      <td>0.0</td>\n",
       "      <td>1.0</td>\n",
       "    </tr>\n",
       "    <tr>\n",
       "      <th>332</th>\n",
       "      <td>0.531739</td>\n",
       "      <td>0.010602</td>\n",
       "      <td>0.652160</td>\n",
       "      <td>0.085051</td>\n",
       "      <td>0.884615</td>\n",
       "      <td>0.912012</td>\n",
       "      <td>0.792344</td>\n",
       "      <td>0.937695</td>\n",
       "      <td>0.047807</td>\n",
       "      <td>1.194743</td>\n",
       "      <td>0.142857</td>\n",
       "      <td>0.970000</td>\n",
       "      <td>1.0</td>\n",
       "      <td>0.0</td>\n",
       "    </tr>\n",
       "    <tr>\n",
       "      <th>852</th>\n",
       "      <td>0.358052</td>\n",
       "      <td>0.009848</td>\n",
       "      <td>0.301953</td>\n",
       "      <td>0.067032</td>\n",
       "      <td>0.192308</td>\n",
       "      <td>0.410736</td>\n",
       "      <td>0.214812</td>\n",
       "      <td>0.658560</td>\n",
       "      <td>0.436328</td>\n",
       "      <td>1.289528</td>\n",
       "      <td>0.285714</td>\n",
       "      <td>0.960000</td>\n",
       "      <td>1.0</td>\n",
       "      <td>0.0</td>\n",
       "    </tr>\n",
       "    <tr>\n",
       "      <th>1036</th>\n",
       "      <td>0.110154</td>\n",
       "      <td>0.017579</td>\n",
       "      <td>0.158678</td>\n",
       "      <td>0.325495</td>\n",
       "      <td>0.192308</td>\n",
       "      <td>0.223330</td>\n",
       "      <td>0.658217</td>\n",
       "      <td>0.992762</td>\n",
       "      <td>0.324922</td>\n",
       "      <td>-0.038482</td>\n",
       "      <td>0.714286</td>\n",
       "      <td>0.560000</td>\n",
       "      <td>1.0</td>\n",
       "      <td>0.0</td>\n",
       "    </tr>\n",
       "    <tr>\n",
       "      <th>...</th>\n",
       "      <td>...</td>\n",
       "      <td>...</td>\n",
       "      <td>...</td>\n",
       "      <td>...</td>\n",
       "      <td>...</td>\n",
       "      <td>...</td>\n",
       "      <td>...</td>\n",
       "      <td>...</td>\n",
       "      <td>...</td>\n",
       "      <td>...</td>\n",
       "      <td>...</td>\n",
       "      <td>...</td>\n",
       "      <td>...</td>\n",
       "      <td>...</td>\n",
       "    </tr>\n",
       "    <tr>\n",
       "      <th>835</th>\n",
       "      <td>0.108279</td>\n",
       "      <td>0.006169</td>\n",
       "      <td>0.271625</td>\n",
       "      <td>0.137714</td>\n",
       "      <td>0.153846</td>\n",
       "      <td>0.411110</td>\n",
       "      <td>0.283893</td>\n",
       "      <td>0.860627</td>\n",
       "      <td>0.306643</td>\n",
       "      <td>1.333493</td>\n",
       "      <td>0.285714</td>\n",
       "      <td>0.860000</td>\n",
       "      <td>0.0</td>\n",
       "      <td>1.0</td>\n",
       "    </tr>\n",
       "    <tr>\n",
       "      <th>3264</th>\n",
       "      <td>0.038962</td>\n",
       "      <td>0.005680</td>\n",
       "      <td>0.179231</td>\n",
       "      <td>0.490348</td>\n",
       "      <td>0.153846</td>\n",
       "      <td>0.191885</td>\n",
       "      <td>0.709585</td>\n",
       "      <td>0.995029</td>\n",
       "      <td>0.149164</td>\n",
       "      <td>-0.474956</td>\n",
       "      <td>0.428571</td>\n",
       "      <td>0.380000</td>\n",
       "      <td>1.0</td>\n",
       "      <td>0.0</td>\n",
       "    </tr>\n",
       "    <tr>\n",
       "      <th>1653</th>\n",
       "      <td>0.231637</td>\n",
       "      <td>0.002989</td>\n",
       "      <td>0.474648</td>\n",
       "      <td>0.281366</td>\n",
       "      <td>0.884615</td>\n",
       "      <td>0.911096</td>\n",
       "      <td>0.775340</td>\n",
       "      <td>0.982969</td>\n",
       "      <td>0.266071</td>\n",
       "      <td>1.114639</td>\n",
       "      <td>0.285714</td>\n",
       "      <td>0.390000</td>\n",
       "      <td>1.0</td>\n",
       "      <td>0.0</td>\n",
       "    </tr>\n",
       "    <tr>\n",
       "      <th>2607</th>\n",
       "      <td>0.019910</td>\n",
       "      <td>0.010449</td>\n",
       "      <td>0.248182</td>\n",
       "      <td>0.139128</td>\n",
       "      <td>0.192308</td>\n",
       "      <td>0.388282</td>\n",
       "      <td>0.613336</td>\n",
       "      <td>0.992426</td>\n",
       "      <td>0.361401</td>\n",
       "      <td>-0.105376</td>\n",
       "      <td>0.571429</td>\n",
       "      <td>0.400000</td>\n",
       "      <td>1.0</td>\n",
       "      <td>0.0</td>\n",
       "    </tr>\n",
       "    <tr>\n",
       "      <th>2732</th>\n",
       "      <td>0.014678</td>\n",
       "      <td>0.008527</td>\n",
       "      <td>0.102795</td>\n",
       "      <td>0.138143</td>\n",
       "      <td>0.192308</td>\n",
       "      <td>0.379194</td>\n",
       "      <td>0.778631</td>\n",
       "      <td>0.983039</td>\n",
       "      <td>0.310408</td>\n",
       "      <td>-0.141620</td>\n",
       "      <td>0.571429</td>\n",
       "      <td>0.880000</td>\n",
       "      <td>1.0</td>\n",
       "      <td>0.0</td>\n",
       "    </tr>\n",
       "  </tbody>\n",
       "</table>\n",
       "<p>2800 rows × 14 columns</p>\n",
       "</div>"
      ],
      "text/plain": [
       "      minmax__CRIM  minmax__ZN  minmax__POLINDEX  minmax__DIS  \\\n",
       "3336      0.189700    0.004561          0.033842     0.124347   \n",
       "2540      0.036362    0.202330          0.162887     0.271862   \n",
       "332       0.531739    0.010602          0.652160     0.085051   \n",
       "852       0.358052    0.009848          0.301953     0.067032   \n",
       "1036      0.110154    0.017579          0.158678     0.325495   \n",
       "...            ...         ...               ...          ...   \n",
       "835       0.108279    0.006169          0.271625     0.137714   \n",
       "3264      0.038962    0.005680          0.179231     0.490348   \n",
       "1653      0.231637    0.002989          0.474648     0.281366   \n",
       "2607      0.019910    0.010449          0.248182     0.139128   \n",
       "2732      0.014678    0.008527          0.102795     0.138143   \n",
       "\n",
       "      minmax__HIGHWAYCOUNT  minmax__TAX  minmax__PTRATIO  minmax__IMM  \\\n",
       "3336              0.192308     0.374853         0.829378     0.989745   \n",
       "2540              0.115385     0.069331         0.690556     0.976549   \n",
       "332               0.884615     0.912012         0.792344     0.937695   \n",
       "852               0.192308     0.410736         0.214812     0.658560   \n",
       "1036              0.192308     0.223330         0.658217     0.992762   \n",
       "...                    ...          ...              ...          ...   \n",
       "835               0.153846     0.411110         0.283893     0.860627   \n",
       "3264              0.153846     0.191885         0.709585     0.995029   \n",
       "1653              0.884615     0.911096         0.775340     0.982969   \n",
       "2607              0.192308     0.388282         0.613336     0.992426   \n",
       "2732              0.192308     0.379194         0.778631     0.983039   \n",
       "\n",
       "      minmax__BPL  std__INDUS    rm__RM  age__AGE  riverside__RIVERSIDE_NO  \\\n",
       "3336     0.419050   -0.239852  0.428571  0.860000                      1.0   \n",
       "2540     0.140763   -0.529958  0.571429  0.640453                      0.0   \n",
       "332      0.047807    1.194743  0.142857  0.970000                      1.0   \n",
       "852      0.436328    1.289528  0.285714  0.960000                      1.0   \n",
       "1036     0.324922   -0.038482  0.714286  0.560000                      1.0   \n",
       "...           ...         ...       ...       ...                      ...   \n",
       "835      0.306643    1.333493  0.285714  0.860000                      0.0   \n",
       "3264     0.149164   -0.474956  0.428571  0.380000                      1.0   \n",
       "1653     0.266071    1.114639  0.285714  0.390000                      1.0   \n",
       "2607     0.361401   -0.105376  0.571429  0.400000                      1.0   \n",
       "2732     0.310408   -0.141620  0.571429  0.880000                      1.0   \n",
       "\n",
       "      riverside__RIVERSIDE_YES  \n",
       "3336                       0.0  \n",
       "2540                       1.0  \n",
       "332                        0.0  \n",
       "852                        0.0  \n",
       "1036                       0.0  \n",
       "...                        ...  \n",
       "835                        1.0  \n",
       "3264                       0.0  \n",
       "1653                       0.0  \n",
       "2607                       0.0  \n",
       "2732                       0.0  \n",
       "\n",
       "[2800 rows x 14 columns]"
      ]
     },
     "execution_count": 25,
     "metadata": {},
     "output_type": "execute_result"
    }
   ],
   "source": [
    "preprocessor.fit_transform(X_train)"
   ]
  },
  {
   "cell_type": "code",
   "execution_count": 26,
   "metadata": {},
   "outputs": [
    {
     "data": {
      "text/plain": [
       "0.38617456550975626"
      ]
     },
     "execution_count": 26,
     "metadata": {},
     "output_type": "execute_result"
    }
   ],
   "source": [
    "preprocessor.transform(X_test).mean().mean()"
   ]
  }
 ],
 "metadata": {
  "kernelspec": {
   "display_name": ".env",
   "language": "python",
   "name": "python3"
  },
  "language_info": {
   "codemirror_mode": {
    "name": "ipython",
    "version": 3
   },
   "file_extension": ".py",
   "mimetype": "text/x-python",
   "name": "python",
   "nbconvert_exporter": "python",
   "pygments_lexer": "ipython3",
   "version": "3.12.2"
  }
 },
 "nbformat": 4,
 "nbformat_minor": 2
}
