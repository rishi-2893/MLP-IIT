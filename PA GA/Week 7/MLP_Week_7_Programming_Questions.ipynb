{
  "cells": [
    {
      "cell_type": "code",
      "execution_count": null,
      "metadata": {
        "id": "6wXkPdCUjmKq"
      },
      "outputs": [],
      "source": [
        "import pandas as pd\n",
        "import numpy as np"
      ]
    },
    {
      "cell_type": "markdown",
      "metadata": {
        "id": "4OR2ACrUqcAw"
      },
      "source": [
        "# **Practice Questions**\n",
        "\n",
        "Question Group Name: 22T1_MLP_W7_PP\n",
        "\n",
        "Total No. of Ques: 6# "
      ]
    },
    {
      "cell_type": "markdown",
      "metadata": {
        "id": "J2WOQKc_VRzu"
      },
      "source": [
        "### Common Data for Q1,Q2,Q3"
      ]
    },
    {
      "cell_type": "code",
      "execution_count": null,
      "metadata": {
        "id": "gq0C2wkuIPj3"
      },
      "outputs": [],
      "source": [
        "\n",
        "# (Common data for 1,2,3)\n",
        "text_data=['A metaverse is a network of 3D virtual worlds focused on social connection.',\n",
        "           'In futurism and science fiction, the term is often described as a hypothetical iteration of the Internet as a single', \n",
        "           'universal virtual world that is facilitated by the use of virtual and augmented reality headsets.',\n",
        "           'The term \"metaverse\" has its origins  the 1992 science fiction novel Snow Crash as a portmanteau of \"meta\" and \"universe.\"',\n",
        "           'Various metaverses have been developed for popular use such as virtual world platforms like Second Life.',\n",
        "           'Some metaverse iterations involve integration between virtual and physical spaces and virtual economies',\n",
        "           'often including a significant interest in advancing virtual reality technology.', \n",
        "           'The term has seen considerable use as a buzzword for public relations purposes to exaggerate development progress for various related technologies and projects.[10] Information privacy and user addiction are concerns within metaverses',\n",
        "           'stemming from challenges facing the social media and video game industries as a whole.']"
      ]
    },
    {
      "cell_type": "markdown",
      "metadata": {
        "id": "X8jixSpVrnTg"
      },
      "source": [
        "### **Que 1.**\n",
        "\n",
        "\n",
        "[1 point]  Vectorize the given text data using  countvectorizer() object. What is the shape of text_data after vectorization?\n",
        "\n",
        "Options: <br>\n",
        "1. (9,99) <br>\n",
        "2. (99,9) <br>\n",
        "3. (1,99) <br>\n",
        "4. (9,20) <br>\n",
        "5. None of them\n",
        "\n",
        "**Ans: (9,99)**\n",
        "\n"
      ]
    },
    {
      "cell_type": "markdown",
      "metadata": {
        "id": "O9823E0KMTDd"
      },
      "source": [
        "**Solution**"
      ]
    },
    {
      "cell_type": "code",
      "execution_count": null,
      "metadata": {
        "colab": {
          "base_uri": "https://localhost:8080/"
        },
        "id": "6LFjhZNTKPp3",
        "outputId": "25a60bb0-b049-4ef7-bfe6-ab64ca81a966"
      },
      "outputs": [
        {
          "data": {
            "text/plain": [
              "(9, 99)"
            ]
          },
          "execution_count": 2,
          "metadata": {},
          "output_type": "execute_result"
        }
      ],
      "source": [
        "from sklearn.feature_extraction.text import CountVectorizer\n",
        "c_vectorizer = CountVectorizer()\n",
        "X_c = c_vectorizer.fit_transform(text_data)\n",
        "X_c.shape"
      ]
    },
    {
      "cell_type": "markdown",
      "metadata": {
        "id": "4pSBs7K6ugCw"
      },
      "source": [
        "### **Que 2.**\n",
        "\n",
        "[1 point] What is the shape of text_data after vectorization after the  term that appeared in less than 2 documents are ignored?\n",
        "\n",
        "\n",
        "Options: <br>\n",
        "1. (9,99) <br>\n",
        "2. (99,9) <br>\n",
        "3. (9,20) <br>\n",
        "4. (20,9) <br>\n",
        "5. None of them\n",
        "\n",
        "Ans: (9,20)"
      ]
    },
    {
      "cell_type": "markdown",
      "metadata": {
        "id": "wr04S91Qxr7r"
      },
      "source": [
        "**Solution**"
      ]
    },
    {
      "cell_type": "code",
      "execution_count": null,
      "metadata": {
        "colab": {
          "base_uri": "https://localhost:8080/"
        },
        "id": "Ztgjb6eWv-gt",
        "outputId": "9dc401ac-84d8-4d41-d413-669801dc589e"
      },
      "outputs": [
        {
          "data": {
            "text/plain": [
              "(9, 20)"
            ]
          },
          "execution_count": 3,
          "metadata": {},
          "output_type": "execute_result"
        }
      ],
      "source": [
        "new_cv = CountVectorizer(min_df=2)\n",
        "count_vector=new_cv.fit_transform(text_data)\n",
        "count_vector.shape"
      ]
    },
    {
      "cell_type": "markdown",
      "metadata": {
        "id": "fD5NPNWLx5ha"
      },
      "source": [
        "### **Que 3**\n",
        "\n",
        "[1 point] What is the token associated with word \"metaverse\"?\n",
        "\n",
        "\n",
        "Options: <br>\n",
        "1. 50 <br>\n",
        "2. 51 <br>\n",
        "3. 52 <br>\n",
        "4. 53 <br>\n",
        "5. None of them\n",
        "\n",
        "Ans: 51"
      ]
    },
    {
      "cell_type": "markdown",
      "metadata": {
        "id": "kRd2NDsKzlNa"
      },
      "source": [
        "**Solution**"
      ]
    },
    {
      "cell_type": "code",
      "execution_count": null,
      "metadata": {
        "colab": {
          "base_uri": "https://localhost:8080/"
        },
        "id": "hqbNirPiMP76",
        "outputId": "2b11f575-c680-428e-af76-cdcd80c6c82e"
      },
      "outputs": [
        {
          "data": {
            "text/plain": [
              "51"
            ]
          },
          "execution_count": 12,
          "metadata": {},
          "output_type": "execute_result"
        }
      ],
      "source": [
        "c_vectorizer.vocabulary_['metaverse']"
      ]
    },
    {
      "cell_type": "markdown",
      "metadata": {
        "id": "aKsgodmc6Nm7"
      },
      "source": [
        "### **Que 4.**\n",
        "\n",
        " Docs = ['This is the first question.',\n",
        "           'This document is the second document.', 'And this is the third one'\n",
        "            ]\n",
        "\n",
        "Write a code to convert the above text into an array after tokenizing it using countvectorizer with 10  features. What will be the output?\n",
        " \n",
        "\n",
        "Options: <br>\n",
        "1. \n",
        "       [[0, 0, 1, 1, 0, 1, 0, 1, 0, 1],\n",
        "       [0, 2, 0, 1, 0, 0, 1, 1, 0, 1],\n",
        "       [1, 0, 0, 1, 1, 0, 0, 1, 1, 1]]\n",
        "\n",
        "2. \n",
        "      \n",
        "       [[0, 1, 1, 1, 0, 1, 0, 1, 0, 1],\n",
        "       [0, 2, 0, 1, 0, 0, 1, 1, 0, 1],\n",
        "       [1, 0, 0, 1, 1, 1, 0, 1, 1, 1]]\n",
        "3. \n",
        "      \n",
        "       [[0, 0, 1, 1, 0, 1, 0, 1, 2, 1],\n",
        "       [0, 2, 0, 1, 0, 0, 1, 1, 1, 1],\n",
        "       [1, 0, 0, 1, 1, 0, 0, 1, 1, 1]]\n",
        "4. \n",
        "      \n",
        "       [[0, 0, 2, 1, 0, 1, 0, 1, 0, 1],\n",
        "       [0, 2, 0, 1, 0, 0, 1, 1, 1, 1],\n",
        "       [1, 0, 0, 1, 1, 0, 0, 1, 1, 1]]\n",
        "\n",
        "\n",
        "Ans: Option 1\n",
        "\n"
      ]
    },
    {
      "cell_type": "markdown",
      "metadata": {
        "id": "y44jwKnNBMP2"
      },
      "source": [
        "**Solution**"
      ]
    },
    {
      "cell_type": "code",
      "execution_count": null,
      "metadata": {
        "colab": {
          "base_uri": "https://localhost:8080/"
        },
        "id": "ldAJbi1z7BVP",
        "outputId": "3e755e6e-532c-47e4-ab2b-dadec01d1140"
      },
      "outputs": [
        {
          "data": {
            "text/plain": [
              "array([[0, 0, 1, 1, 0, 1, 0, 1, 0, 1],\n",
              "       [0, 2, 0, 1, 0, 0, 1, 1, 0, 1],\n",
              "       [1, 0, 0, 1, 1, 0, 0, 1, 1, 1]])"
            ]
          },
          "execution_count": 5,
          "metadata": {},
          "output_type": "execute_result"
        }
      ],
      "source": [
        "def array_maker(input):\n",
        "    vectorizer = CountVectorizer()\n",
        "    X = vectorizer.fit_transform(input)\n",
        "    return(X.toarray())\n",
        "Docs = ['This is the first question.', 'This document is the second document.', 'And this is the third one',] \n",
        "array_maker(Docs)"
      ]
    },
    {
      "cell_type": "markdown",
      "metadata": {
        "id": "woLB2ulXyDNP"
      },
      "source": [
        "### **Que 5.**\n",
        " Define a function called *k_closest* in python with the following signature:\n",
        "\n",
        "```\n",
        "def k_closest( X: \"set of vectors as np.ndarray\", p: \"test vector as np.array\", k:\"integer. Default 1\") -> np.ndarray \n",
        "```\n",
        "Which returns  closest vectors in X which are closest to the vector p.\n",
        "Use the appropriate sklearn methods.\n",
        "\n",
        "Consider, \n",
        "``\n",
        "X = np.asarray([[72, 69 ,82],\n",
        " [ 9 ,79, 99],\n",
        " [20 ,47, 88],\n",
        " [80 ,64, 49]])\n",
        "p= np.asarray([[0,0,0]])\n",
        "and k=1\n",
        "``\n",
        "For these values, what is the output of the function?\n",
        "\n",
        "Options: <br>\n",
        "\n",
        "1. array([[20, 47, 82]])\n",
        "\n",
        "2. array([[80 ,64, 49]])\n",
        "\n",
        "3. array([[9 ,79, 99]])\n",
        "\n",
        "4. array([[20 ,47, 88]])\n",
        "\n",
        "Ans: Option 4\n",
        "\n",
        "\n",
        "\n"
      ]
    },
    {
      "cell_type": "markdown",
      "metadata": {
        "id": "5kVb_YEvl7eH"
      },
      "source": [
        "**Solution**"
      ]
    },
    {
      "cell_type": "code",
      "execution_count": null,
      "metadata": {
        "id": "QM2TUps6zavI"
      },
      "outputs": [],
      "source": [
        "import numpy as np\n",
        "from sklearn.neighbors import NearestNeighbors\n",
        "np.random.seed(0)\n",
        "\n",
        "\n",
        "\n",
        "def k_closest( X:np.ndarray, p:np.array, k:int = 1):\n",
        "\n",
        "  Xclosest = NearestNeighbors().fit(X)\n",
        "\n",
        "  indices = Xclosest.kneighbors(p, k, return_distance=False)\n",
        "\n",
        "  return X[indices[0]]"
      ]
    },
    {
      "cell_type": "code",
      "execution_count": null,
      "metadata": {
        "colab": {
          "base_uri": "https://localhost:8080/"
        },
        "id": "t9dl8LcL0CRT",
        "outputId": "acbdf0b9-2403-4e31-ad4f-d7199f1ebd00"
      },
      "outputs": [
        {
          "data": {
            "text/plain": [
              "array([[20, 47, 88]])"
            ]
          },
          "execution_count": 7,
          "metadata": {},
          "output_type": "execute_result"
        }
      ],
      "source": [
        "X = np.asarray([[72, 69 ,82],\n",
        " [ 9 ,79, 99],\n",
        " [20 ,47, 88],\n",
        " [80 ,64, 49]])\n",
        "p= np.asarray([[0,0,0]])\n",
        "k=1 \n",
        "k_closest(X,p,k=1)"
      ]
    },
    {
      "cell_type": "markdown",
      "metadata": {
        "id": "ZGnlVim8cC8W"
      },
      "source": [
        "### **Que 6.**\n",
        " Define a function called *distance* in python with the following signature:\n",
        "\n",
        "```\n",
        "def distance( x0 : \"A vector as np.array\", X: \"A list of vectors as np.ndarray\", p : \"p value for Minkowsky distance. Default 2, for Eucledian\"): \n",
        "```\n",
        "which returns a list of calculated Minkowsky distances between the point x0 and all points in X. Recall that the p-Minkowsky distance between $\\mathbf {x} = (x_1, x_2, \\ldots x_n)^T$ and $\\mathbf {y} = (y_1, y_2, \\ldots y_n)^T$ is \n",
        "\n",
        "\n",
        "$$\\delta(\\mathbf x,\\mathbf y) = \\left( |x_1 - y_1|^p+ |x_2 - y_2|^p + \\cdots + |x_n - y_n|^p \\right )^{\\frac{1}{p}}$$\n",
        "\n",
        "Do not use any predefined function to calculate the same.\n",
        "\n",
        "Consider,\n",
        "X0 = np.array([1,0,0,0]),\n",
        "X= np.asarray([[1, 0, 0,0], [0, 1, 1,1],[1,2,0,0]]),\n",
        "p= 2\n",
        "then,  what is the output of the function distance(X0,X,p) ?\n",
        "\n",
        "Options: <br>\n",
        "\n",
        "1. [0, 1, 0,1]\n",
        "\n",
        "2. [1, 0, 0,0]\n",
        "\n",
        "3. [0, 2, 2]\n",
        "\n",
        "4. [0, 2, 1]\n",
        "\n",
        "Ans: [0, 2, 2]\n",
        "\n",
        "\n",
        "\n"
      ]
    },
    {
      "cell_type": "markdown",
      "metadata": {
        "id": "3L3YySaSmAwl"
      },
      "source": [
        "**Solution**"
      ]
    },
    {
      "cell_type": "code",
      "execution_count": null,
      "metadata": {
        "id": "6oQDgITicsDN"
      },
      "outputs": [],
      "source": [
        "def distance( x0 :  np.array, X:np.ndarray, p:int = 2) -> list:\n",
        "  \n",
        "  if (X.shape[1] == 1) and (np.asarray(x0).size == 1) :  #if x0 is scalar and X is an array of scalars\n",
        "      pass\n",
        "  else:  assert x0.shape[0] == X.shape[1], \"Input vectors must have identical dimension\"\n",
        "\n",
        "  assert p>0, \"p must be positive integer\"\n",
        "\n",
        "  dist = lambda y : np.power(  np.sum(  np.power(  np.abs(x0-y)  ,p)  )  , 1/p  )\n",
        "\n",
        "  return [dist(y) for y in X]"
      ]
    },
    {
      "cell_type": "code",
      "execution_count": null,
      "metadata": {
        "colab": {
          "base_uri": "https://localhost:8080/"
        },
        "id": "egnHrDbTczUT",
        "outputId": "8de6add0-dfc0-4245-cfa6-0c6f1c17b83f"
      },
      "outputs": [
        {
          "data": {
            "text/plain": [
              "[0.0, 2.0, 2.0]"
            ]
          },
          "execution_count": 9,
          "metadata": {},
          "output_type": "execute_result"
        }
      ],
      "source": [
        "X0 = np.array([1, 0, 0, 0])\n",
        "X= np.asarray([[1, 0, 0, 0], \n",
        "               [0, 1, 1, 1],\n",
        "               [1, 2, 0, 0]])\n",
        "distance(X0, X, p=2)"
      ]
    },
    {
      "cell_type": "code",
      "execution_count": null,
      "metadata": {
        "colab": {
          "base_uri": "https://localhost:8080/"
        },
        "id": "7eVPCFZ_fBJY",
        "outputId": "4473de80-fb7c-4bfd-cf36-b51678bdb979"
      },
      "outputs": [
        {
          "name": "stdout",
          "output_type": "stream",
          "text": [
            "[0. 2. 2.]\n"
          ]
        }
      ],
      "source": [
        "# Using scipy\n",
        "from scipy.spatial import minkowski_distance\n",
        "\n",
        "dist = minkowski_distance(X0, X,2)\n",
        "print(dist)\n"
      ]
    },
    {
      "cell_type": "markdown",
      "metadata": {
        "id": "1LzG9YmA9CZl"
      },
      "source": []
    },
    {
      "cell_type": "markdown",
      "metadata": {
        "id": "m1ftDz-h3rcy"
      },
      "source": [
        "# **(Common data for Q7 to 11 Practice)**\n",
        "Load digit dataset on Colab (datasets.load_digits()) and use softmax regression to build the model Using following steps.\n",
        "\n",
        "**Step 1:**\n",
        "Load the  dataset and split it using train_test_split by keeping:\n",
        "     test_size= 0.2\n",
        "     random_state=10\n",
        "\n",
        "**Step 2:** Use standard scaler as a scaling function to scale the training as well as test data.\n",
        "\n",
        "**Step 3:** Use Logisticregression() as an estimator and set parameter (multi_class='multinomial', solver='sag') to predict the output.\n",
        "\n"
      ]
    },
    {
      "cell_type": "markdown",
      "metadata": {
        "id": "tL3h0gKf4290"
      },
      "source": [
        "### **Que 7** \n",
        "\n",
        "[1 point]  What is the shape of features data you got in digits dataset ?\n",
        "\n",
        "Options: <br>\n",
        "1. (1797,64) <br>\n",
        "2. (1797,65) <br>\n",
        "3. (360,64) <br>\n",
        "4. (1437,64) <br>\n",
        "\n",
        "\n",
        "Ans: (1797,64)\n",
        "\n"
      ]
    },
    {
      "cell_type": "markdown",
      "metadata": {
        "id": "yzqHajKa867g"
      },
      "source": [
        "**Solution**"
      ]
    },
    {
      "cell_type": "code",
      "execution_count": null,
      "metadata": {
        "colab": {
          "base_uri": "https://localhost:8080/"
        },
        "id": "Em4HBkfnw6qX",
        "outputId": "a47a4bea-7a78-4b4e-cf04-ede3f3275bce"
      },
      "outputs": [
        {
          "data": {
            "text/plain": [
              "(1797, 64)"
            ]
          },
          "execution_count": 73,
          "metadata": {},
          "output_type": "execute_result"
        }
      ],
      "source": [
        "digits_df = datasets.load_digits()\n",
        "X = digits_df.data\n",
        "y = digits_df.target\n",
        "X.shape"
      ]
    },
    {
      "cell_type": "markdown",
      "metadata": {
        "id": "zJCNPofi5jNU"
      },
      "source": [
        "### **Que 8** \n",
        "\n",
        "[1 point] How many labels are there in the dataset?\n",
        "\n",
        "Options: <br>\n",
        "1. 2 <br>\n",
        "2. 3 <br>\n",
        "3.9 <br>\n",
        "4. 10 <br>\n",
        "\n",
        "\n",
        "Ans: 10\n",
        "\n"
      ]
    },
    {
      "cell_type": "markdown",
      "metadata": {
        "id": "eAy6udow88cA"
      },
      "source": [
        "**Solution**"
      ]
    },
    {
      "cell_type": "code",
      "execution_count": null,
      "metadata": {
        "colab": {
          "base_uri": "https://localhost:8080/"
        },
        "id": "qaso649X575X",
        "outputId": "265c246f-7aa0-4e1d-f878-b1b57a904d68"
      },
      "outputs": [
        {
          "data": {
            "text/plain": [
              "array([0, 1, 2, 3, 4, 5, 6, 7, 8, 9])"
            ]
          },
          "execution_count": 79,
          "metadata": {},
          "output_type": "execute_result"
        }
      ],
      "source": [
        "unique, counts=np.unique(y, return_counts=True)\n",
        "unique"
      ]
    },
    {
      "cell_type": "markdown",
      "metadata": {
        "id": "Kyeysy2S62lh"
      },
      "source": [
        "### **Que 9** \n",
        "\n",
        "[1 point] How many times label '7' is there in the dataset?\n",
        "\n",
        "Options: <br>\n",
        "1. 179 <br>\n",
        "2. 181 <br>\n",
        "3.174 <br>\n",
        "4. 180 <br>\n",
        "\n",
        "\n",
        "Ans: 179\n",
        "\n"
      ]
    },
    {
      "cell_type": "markdown",
      "metadata": {
        "id": "8w0NtBAW89TW"
      },
      "source": [
        "**Solution**"
      ]
    },
    {
      "cell_type": "code",
      "execution_count": null,
      "metadata": {
        "colab": {
          "base_uri": "https://localhost:8080/"
        },
        "id": "WxPU0T-R6rGa",
        "outputId": "9fc67bf8-9b6d-4694-cf92-4a3f1ac5342c"
      },
      "outputs": [
        {
          "name": "stdout",
          "output_type": "stream",
          "text": [
            "[[  0 178]\n",
            " [  1 182]\n",
            " [  2 177]\n",
            " [  3 183]\n",
            " [  4 181]\n",
            " [  5 182]\n",
            " [  6 181]\n",
            " [  7 179]\n",
            " [  8 174]\n",
            " [  9 180]]\n"
          ]
        }
      ],
      "source": [
        "result = np.column_stack((unique, counts)) \n",
        "print (result)"
      ]
    },
    {
      "cell_type": "markdown",
      "metadata": {
        "id": "UzSfLkt_7k5X"
      },
      "source": [
        "### **Que 10**\n",
        "\n",
        "[1 point] What is the accuracy of the trained model on test data?\n",
        "\n",
        "Options: <br>\n",
        "1.  0.9694<br>\n",
        "2. 0.912 <br>\n",
        "3. 0.99 <br>\n",
        "4. 1.0  <br>\n",
        "\n",
        "**Ans:** 0.9694\n",
        "\n"
      ]
    },
    {
      "cell_type": "markdown",
      "metadata": {
        "id": "amxmpAWP7_w7"
      },
      "source": [
        "### **Que 11**\n",
        "\n",
        "[1 point] Write  the f1_score value you got .(Keep parameter average='weighted') [NAT]\n",
        "\n",
        "\n",
        "**Ans:** 0.9697\n",
        "\n",
        "Range: 0.95-0.98\n"
      ]
    },
    {
      "cell_type": "markdown",
      "metadata": {
        "id": "GDQ41LPo9AmW"
      },
      "source": [
        "**Solution for Q10,Q11**"
      ]
    },
    {
      "cell_type": "code",
      "execution_count": null,
      "metadata": {
        "colab": {
          "base_uri": "https://localhost:8080/"
        },
        "id": "l7-iOka9xaDd",
        "outputId": "157d57f9-ce65-4b15-ecc7-4915496898fe"
      },
      "outputs": [
        {
          "name": "stdout",
          "output_type": "stream",
          "text": [
            "X_train dimension=  (1437, 64)\n",
            "X_test dimension=  (360, 64)\n",
            "y_train dimension=  (1437,)\n",
            "y_train dimension=  (360,)\n"
          ]
        }
      ],
      "source": [
        "\n",
        "##Train test split\n",
        "from sklearn.model_selection import train_test_split\n",
        "from sklearn.linear_model import LogisticRegression\n",
        "X_train, X_test, y_train, y_test = train_test_split(X, y, train_size=0.8, random_state=10)\n",
        "\n",
        "X_train.shape, X_test.shape, y_train.shape, y_test.shape\n",
        "print('X_train dimension= ', X_train.shape)\n",
        "print('X_test dimension= ', X_test.shape)\n",
        "print('y_train dimension= ', y_train.shape)\n",
        "print('y_train dimension= ', y_test.shape)"
      ]
    },
    {
      "cell_type": "code",
      "execution_count": null,
      "metadata": {
        "colab": {
          "base_uri": "https://localhost:8080/"
        },
        "id": "V6IwvCRexhFG",
        "outputId": "839acb72-5bab-4945-a35d-217d6ea7ba36"
      },
      "outputs": [
        {
          "name": "stderr",
          "output_type": "stream",
          "text": [
            "/usr/local/lib/python3.7/dist-packages/sklearn/linear_model/_sag.py:354: ConvergenceWarning: The max_iter was reached which means the coef_ did not converge\n",
            "  ConvergenceWarning,\n"
          ]
        },
        {
          "data": {
            "text/plain": [
              "Pipeline(steps=[('scaler', StandardScaler()),\n",
              "                ('logreg',\n",
              "                 LogisticRegression(multi_class='multinomial', solver='sag'))])"
            ]
          },
          "execution_count": 62,
          "metadata": {},
          "output_type": "execute_result"
        }
      ],
      "source": [
        "from sklearn.preprocessing import StandardScaler\n",
        "from sklearn.pipeline import Pipeline\n",
        "pipe=Pipeline(steps=[(\"scaler\",StandardScaler()),(\"logreg\",LogisticRegression(multi_class='multinomial', solver='sag'))])\n",
        "pipe.fit(X_train,y_train)"
      ]
    },
    {
      "cell_type": "code",
      "execution_count": null,
      "metadata": {
        "colab": {
          "base_uri": "https://localhost:8080/",
          "height": 310
        },
        "id": "QAqe_3Zc10My",
        "outputId": "1d1490b6-ddf5-40d2-dd15-462767010fe6"
      },
      "outputs": [
        {
          "name": "stdout",
          "output_type": "stream",
          "text": [
            "Predicted value is = [1]\n",
            "Actual value from test data is 1 and corresponding image is as below\n"
          ]
        },
        {
          "data": {
            "image/png": "[encoded data removed]",
            "text/plain": [
              "<Figure size 288x288 with 1 Axes>"
            ]
          },
          "metadata": {
            "needs_background": "light"
          },
          "output_type": "display_data"
        }
      ],
      "source": [
        "print('Predicted value is =', pipe.predict([X_test[200]]))\n",
        "\n",
        "print('Actual value from test data is %s and corresponding image is as below' % (y_test[200]) )\n",
        "plt.matshow(digits_df.images[200]) \n",
        "plt.show() "
      ]
    },
    {
      "cell_type": "code",
      "execution_count": null,
      "metadata": {
        "colab": {
          "base_uri": "https://localhost:8080/"
        },
        "id": "0jYrx-pC2ar7",
        "outputId": "65f14470-16bb-468a-856a-9a5276427a56"
      },
      "outputs": [
        {
          "name": "stdout",
          "output_type": "stream",
          "text": [
            "              precision    recall  f1-score   support\n",
            "\n",
            "           0       1.00      1.00      1.00        37\n",
            "           1       0.97      0.91      0.94        34\n",
            "           2       0.89      1.00      0.94        34\n",
            "           3       1.00      0.95      0.97        40\n",
            "           4       1.00      0.94      0.97        34\n",
            "           5       0.94      1.00      0.97        32\n",
            "           6       1.00      0.97      0.99        37\n",
            "           7       1.00      1.00      1.00        40\n",
            "           8       0.89      0.97      0.93        33\n",
            "           9       1.00      0.95      0.97        39\n",
            "\n",
            "    accuracy                           0.97       360\n",
            "   macro avg       0.97      0.97      0.97       360\n",
            "weighted avg       0.97      0.97      0.97       360\n",
            "\n"
          ]
        }
      ],
      "source": [
        "from sklearn.metrics import classification_report\n",
        "print(classification_report(y_test, pipe.predict(X_test)))"
      ]
    },
    {
      "cell_type": "code",
      "execution_count": null,
      "metadata": {
        "id": "l3uU4mIE3L6e"
      },
      "outputs": [],
      "source": [
        "y_pred=pipe.predict(X_test)"
      ]
    },
    {
      "cell_type": "code",
      "execution_count": null,
      "metadata": {
        "colab": {
          "base_uri": "https://localhost:8080/"
        },
        "id": "Micsztc-250G",
        "outputId": "4a8720e3-2df7-40b6-96f8-7ba9f651db22"
      },
      "outputs": [
        {
          "data": {
            "text/plain": [
              "0.9694444444444444"
            ]
          },
          "execution_count": 70,
          "metadata": {},
          "output_type": "execute_result"
        }
      ],
      "source": [
        "accuracy_score(y_test,y_pred)\n"
      ]
    },
    {
      "cell_type": "code",
      "execution_count": null,
      "metadata": {
        "colab": {
          "base_uri": "https://localhost:8080/"
        },
        "id": "XkUEdK5C27Wt",
        "outputId": "ce566723-b182-4659-bc62-1c94222dd79f"
      },
      "outputs": [
        {
          "data": {
            "text/plain": [
              "0.9694444444444444"
            ]
          },
          "execution_count": 71,
          "metadata": {},
          "output_type": "execute_result"
        }
      ],
      "source": [
        "recall_score(y_test, y_pred, average='weighted')\n"
      ]
    },
    {
      "cell_type": "code",
      "execution_count": null,
      "metadata": {
        "colab": {
          "base_uri": "https://localhost:8080/"
        },
        "id": "Wb_nKo87294K",
        "outputId": "5519427c-fa32-4373-8d30-cc09ca183eda"
      },
      "outputs": [
        {
          "data": {
            "text/plain": [
              "0.9697233182569327"
            ]
          },
          "execution_count": 72,
          "metadata": {},
          "output_type": "execute_result"
        }
      ],
      "source": [
        "f1_score(y_test, y_pred, average='weighted')"
      ]
    },
    {
      "cell_type": "markdown",
      "metadata": {
        "id": "CzRfIMOTFLy4"
      },
      "source": [
        "# **Graded Questions**\n",
        "\n",
        "Question Group Name: 22T1_MLP_W7_PG\n",
        "\n",
        "Total No. of Ques: 11"
      ]
    },
    {
      "cell_type": "markdown",
      "metadata": {
        "id": "RUen7gdDj-yP"
      },
      "source": [
        "##(Common data for Q1 to Q5 graded questions)\n",
        "\n",
        "**Step 1:** Download the dataset using following link:\n",
        "(https://drive.google.com/file/d/1v-uxWEgTI0GDCOTZOX3shUMkTf1a_CL7/view?usp=sharing) \n",
        "\n",
        "**Step 2:**  Import the data in google colab using pd.read_csv().\n",
        "\n",
        "**Step 3:** Seperate features and target data in seperate variable X and Y.\n",
        "\n",
        "**Step 4:** Convert dataframe  X and series y into  array and save it in variable X_array,y_array. \n",
        "\n",
        "**Step 5:** Split the dataset using train_test_split.\n",
        " (Keep parameter train_size=0.7 and random_state=10).\n",
        " \n",
        "**Step 6:** Reshape the dataset in such a way that  each entry of data has 90 samples.\n",
        "\n",
        "**Step 7:** Use SGD regressor as an estimator and partial_fit to fit the dataset on the model. (Set random_state=10)\n",
        "\n",
        "**Step 8:** Calculate different evaluation metrics value like mean_square_error, R2_score.\n",
        "\n",
        "Use the training set for fitting the  model and use the test data to make the predictions. \n",
        "\n",
        "**Note:** No need to scale the data. It's already scaled.\n",
        "\n",
        "Answer the below questions."
      ]
    },
    {
      "cell_type": "code",
      "execution_count": null,
      "metadata": {
        "id": "HQL2WHHjjchx"
      },
      "outputs": [],
      "source": [
        "urls='https://drive.google.com/file/d/1v-uxWEgTI0GDCOTZOX3shUMkTf1a_CL7/view?usp=sharing'\n",
        "urls='https://drive.google.com/uc?id=' + urls.split('/')[-2]\n",
        "data = pd.read_csv(urls)"
      ]
    },
    {
      "cell_type": "markdown",
      "metadata": {
        "id": "mtjz1ohBmNxE"
      },
      "source": [
        "### **Que 1**\n",
        "\n",
        "[1 point]  How many fetaures are there in the dataset?\n",
        "\n",
        "Options: <br>\n",
        "1. 10 <br>\n",
        "2. 11 <br>\n",
        "3. 90,000 <br>\n",
        "4. 9000 <br>\n",
        "\n",
        "Ans: 10\n",
        "\n"
      ]
    },
    {
      "cell_type": "code",
      "execution_count": null,
      "metadata": {
        "colab": {
          "base_uri": "https://localhost:8080/"
        },
        "id": "Z7x5tV9TO4eY",
        "outputId": "3edc3378-81dd-491f-f03f-b3c3e7f3d5e0"
      },
      "outputs": [
        {
          "data": {
            "text/plain": [
              "(90000, 11)"
            ]
          },
          "execution_count": 8,
          "metadata": {},
          "output_type": "execute_result"
        }
      ],
      "source": [
        "data.shape"
      ]
    },
    {
      "cell_type": "markdown",
      "metadata": {
        "id": "p9K9BNcKofU2"
      },
      "source": [
        "### **Que 2** \n",
        "\n",
        "[2 point]  What is the value of intercept you got after training the model using SGDRegressor?(select the closest answer)\n",
        "\n",
        "Options: <br>\n",
        "1. +0.005 <br>\n",
        "2. -0.005 <br>\n",
        "3. +0.105 <br>\n",
        "4. -0.105 <br>\n",
        "5. 0 <br>\n",
        "\n",
        "Ans: -0.005\n",
        "\n"
      ]
    },
    {
      "cell_type": "markdown",
      "metadata": {
        "id": "oqlZ1DWi3F1D"
      },
      "source": [
        "### **Que 3**\n",
        "\n",
        "[2 point]  What is the value of cofficient  corresponding to \"feature-3\"you got after trainig the model using SGDRegressor? (select the closest answer) \n",
        "\n",
        "[NAT]\n",
        "\n",
        "Ans: 81.238\n",
        "\n",
        "Range:(81-82)\n",
        "\n"
      ]
    },
    {
      "cell_type": "markdown",
      "metadata": {
        "id": "LRU8OcuR4BZo"
      },
      "source": [
        "### **Que 4**\n",
        "\n",
        "[3 point]  What is the value of R2 score for test data [NAT]\n",
        "\n",
        "Ans: 0.999\n",
        "\n",
        "Range:(0.99-1)\n",
        "\n",
        "\n"
      ]
    },
    {
      "cell_type": "markdown",
      "metadata": {
        "id": "KSQ8ccTYowGz"
      },
      "source": [
        "### **Que 5**\n",
        "\n",
        "[3 Point] What is the  value of cofficient  corresponding to \"feature-5\" after 5th iteration.[NAT]\n",
        "\n",
        "\n",
        "Ans:57.04\n",
        "\n",
        "\n",
        "Range: (56-59)"
      ]
    },
    {
      "cell_type": "markdown",
      "metadata": {
        "id": "ZKLOyA-9oMe8"
      },
      "source": [
        "**(Q1-Q5)Solutions:**"
      ]
    },
    {
      "cell_type": "code",
      "execution_count": null,
      "metadata": {
        "colab": {
          "base_uri": "https://localhost:8080/",
          "height": 193
        },
        "id": "0eHPUM9gQplY",
        "outputId": "243e75d5-71c3-4147-8d1b-780eefcd12ca"
      },
      "outputs": [
        {
          "data": {
            "text/html": [
              "\n",
              "  <div id=\"df-837dc92f-e94d-4689-bce4-b761ac7f4c49\">\n",
              "    <div class=\"colab-df-container\">\n",
              "      <div>\n",
              "<style scoped>\n",
              "    .dataframe tbody tr th:only-of-type {\n",
              "        vertical-align: middle;\n",
              "    }\n",
              "\n",
              "    .dataframe tbody tr th {\n",
              "        vertical-align: top;\n",
              "    }\n",
              "\n",
              "    .dataframe thead th {\n",
              "        text-align: right;\n",
              "    }\n",
              "</style>\n",
              "<table border=\"1\" class=\"dataframe\">\n",
              "  <thead>\n",
              "    <tr style=\"text-align: right;\">\n",
              "      <th></th>\n",
              "      <th>Feature-1</th>\n",
              "      <th>Feature-2</th>\n",
              "      <th>Feature-3</th>\n",
              "      <th>Feature-4</th>\n",
              "      <th>Feature-5</th>\n",
              "      <th>Feature-6</th>\n",
              "      <th>Feature-7</th>\n",
              "      <th>Feature-8</th>\n",
              "      <th>Feature-9</th>\n",
              "      <th>Feature-10</th>\n",
              "    </tr>\n",
              "  </thead>\n",
              "  <tbody>\n",
              "    <tr>\n",
              "      <th>0</th>\n",
              "      <td>-1.580</td>\n",
              "      <td>1.050</td>\n",
              "      <td>1.06</td>\n",
              "      <td>-0.440</td>\n",
              "      <td>0.451</td>\n",
              "      <td>-0.0348</td>\n",
              "      <td>0.643</td>\n",
              "      <td>0.265</td>\n",
              "      <td>0.268</td>\n",
              "      <td>-0.851</td>\n",
              "    </tr>\n",
              "    <tr>\n",
              "      <th>1</th>\n",
              "      <td>-0.832</td>\n",
              "      <td>-0.866</td>\n",
              "      <td>-1.34</td>\n",
              "      <td>0.138</td>\n",
              "      <td>1.180</td>\n",
              "      <td>0.7330</td>\n",
              "      <td>-1.410</td>\n",
              "      <td>0.135</td>\n",
              "      <td>-0.088</td>\n",
              "      <td>-1.550</td>\n",
              "    </tr>\n",
              "  </tbody>\n",
              "</table>\n",
              "</div>\n",
              "      <button class=\"colab-df-convert\" onclick=\"convertToInteractive('df-837dc92f-e94d-4689-bce4-b761ac7f4c49')\"\n",
              "              title=\"Convert this dataframe to an interactive table.\"\n",
              "              style=\"display:none;\">\n",
              "        \n",
              "  <svg xmlns=\"http://www.w3.org/2000/svg\" height=\"24px\"viewBox=\"0 0 24 24\"\n",
              "       width=\"24px\">\n",
              "    <path d=\"M0 0h24v24H0V0z\" fill=\"none\"/>\n",
              "    <path d=\"M18.56 5.44l.94 2.06.94-2.06 2.06-.94-2.06-.94-.94-2.06-.94 2.06-2.06.94zm-11 1L8.5 8.5l.94-2.06 2.06-.94-2.06-.94L8.5 2.5l-.94 2.06-2.06.94zm10 10l.94 2.06.94-2.06 2.06-.94-2.06-.94-.94-2.06-.94 2.06-2.06.94z\"/><path d=\"M17.41 7.96l-1.37-1.37c-.4-.4-.92-.59-1.43-.59-.52 0-1.04.2-1.43.59L10.3 9.45l-7.72 7.72c-.78.78-.78 2.05 0 2.83L4 21.41c.39.39.9.59 1.41.59.51 0 1.02-.2 1.41-.59l7.78-7.78 2.81-2.81c.8-.78.8-2.07 0-2.86zM5.41 20L4 18.59l7.72-7.72 1.47 1.35L5.41 20z\"/>\n",
              "  </svg>\n",
              "      </button>\n",
              "      \n",
              "  <style>\n",
              "    .colab-df-container {\n",
              "      display:flex;\n",
              "      flex-wrap:wrap;\n",
              "      gap: 12px;\n",
              "    }\n",
              "\n",
              "    .colab-df-convert {\n",
              "      background-color: #E8F0FE;\n",
              "      border: none;\n",
              "      border-radius: 50%;\n",
              "      cursor: pointer;\n",
              "      display: none;\n",
              "      fill: #1967D2;\n",
              "      height: 32px;\n",
              "      padding: 0 0 0 0;\n",
              "      width: 32px;\n",
              "    }\n",
              "\n",
              "    .colab-df-convert:hover {\n",
              "      background-color: #E2EBFA;\n",
              "      box-shadow: 0px 1px 2px rgba(60, 64, 67, 0.3), 0px 1px 3px 1px rgba(60, 64, 67, 0.15);\n",
              "      fill: #174EA6;\n",
              "    }\n",
              "\n",
              "    [theme=dark] .colab-df-convert {\n",
              "      background-color: #3B4455;\n",
              "      fill: #D2E3FC;\n",
              "    }\n",
              "\n",
              "    [theme=dark] .colab-df-convert:hover {\n",
              "      background-color: #434B5C;\n",
              "      box-shadow: 0px 1px 3px 1px rgba(0, 0, 0, 0.15);\n",
              "      filter: drop-shadow(0px 1px 2px rgba(0, 0, 0, 0.3));\n",
              "      fill: #FFFFFF;\n",
              "    }\n",
              "  </style>\n",
              "\n",
              "      <script>\n",
              "        const buttonEl =\n",
              "          document.querySelector('#df-837dc92f-e94d-4689-bce4-b761ac7f4c49 button.colab-df-convert');\n",
              "        buttonEl.style.display =\n",
              "          google.colab.kernel.accessAllowed ? 'block' : 'none';\n",
              "\n",
              "        async function convertToInteractive(key) {\n",
              "          const element = document.querySelector('#df-837dc92f-e94d-4689-bce4-b761ac7f4c49');\n",
              "          const dataTable =\n",
              "            await google.colab.kernel.invokeFunction('convertToInteractive',\n",
              "                                                     [key], {});\n",
              "          if (!dataTable) return;\n",
              "\n",
              "          const docLinkHtml = 'Like what you see? Visit the ' +\n",
              "            '<a target=\"_blank\" href=https://colab.research.google.com/notebooks/data_table.ipynb>data table notebook</a>'\n",
              "            + ' to learn more about interactive tables.';\n",
              "          element.innerHTML = '';\n",
              "          dataTable['output_type'] = 'display_data';\n",
              "          await google.colab.output.renderOutput(dataTable, element);\n",
              "          const docLink = document.createElement('div');\n",
              "          docLink.innerHTML = docLinkHtml;\n",
              "          element.appendChild(docLink);\n",
              "        }\n",
              "      </script>\n",
              "    </div>\n",
              "  </div>\n",
              "  "
            ],
            "text/plain": [
              "   Feature-1  Feature-2  Feature-3  ...  Feature-8  Feature-9  Feature-10\n",
              "0     -1.580      1.050       1.06  ...      0.265      0.268      -0.851\n",
              "1     -0.832     -0.866      -1.34  ...      0.135     -0.088      -1.550\n",
              "\n",
              "[2 rows x 10 columns]"
            ]
          },
          "execution_count": 9,
          "metadata": {},
          "output_type": "execute_result"
        }
      ],
      "source": [
        "X=data.iloc[:,:10]\n",
        "X.head(2)"
      ]
    },
    {
      "cell_type": "code",
      "execution_count": null,
      "metadata": {
        "id": "FD0bnIsOVFfq"
      },
      "outputs": [],
      "source": [
        "X_array=X.to_numpy()"
      ]
    },
    {
      "cell_type": "code",
      "execution_count": null,
      "metadata": {
        "colab": {
          "base_uri": "https://localhost:8080/"
        },
        "id": "IM_lmE4RQavt",
        "outputId": "a557a038-613b-41b8-dd05-538538aaa7fb"
      },
      "outputs": [
        {
          "data": {
            "text/plain": [
              "0     84.7\n",
              "1   -211.0\n",
              "Name: Target, dtype: float64"
            ]
          },
          "execution_count": 11,
          "metadata": {},
          "output_type": "execute_result"
        }
      ],
      "source": [
        "Y=data.iloc[:,10]\n",
        "Y.head(2)"
      ]
    },
    {
      "cell_type": "code",
      "execution_count": null,
      "metadata": {
        "id": "5zOvaG2uW7gN"
      },
      "outputs": [],
      "source": [
        "Y_array=Y.to_numpy()"
      ]
    },
    {
      "cell_type": "code",
      "execution_count": null,
      "metadata": {
        "colab": {
          "base_uri": "https://localhost:8080/"
        },
        "id": "JITXA_v0PB1y",
        "outputId": "f93884a3-0dc5-4ba1-80d7-c93fe3cefeae"
      },
      "outputs": [
        {
          "data": {
            "text/plain": [
              "((81000, 10), (9000, 10), (81000,), (9000,))"
            ]
          },
          "execution_count": 13,
          "metadata": {},
          "output_type": "execute_result"
        }
      ],
      "source": [
        "##Train test split\n",
        "from sklearn.model_selection import train_test_split\n",
        "X_train, X_test, Y_train, Y_test = train_test_split(X_array, \n",
        "                                                    Y_array, \n",
        "                                                    train_size=0.9, \n",
        "                                                    random_state=10)\n",
        "\n",
        "X_train.shape, X_test.shape, Y_train.shape, Y_test.shape"
      ]
    },
    {
      "cell_type": "code",
      "execution_count": null,
      "metadata": {
        "colab": {
          "base_uri": "https://localhost:8080/"
        },
        "id": "Sry8PpE6onTe",
        "outputId": "cd940887-3f12-4947-b902-53b75d45d1c8"
      },
      "outputs": [
        {
          "data": {
            "text/plain": [
              "((900, 90, 10), (100, 90, 10), (900, 90), (100, 90))"
            ]
          },
          "execution_count": 14,
          "metadata": {},
          "output_type": "execute_result"
        }
      ],
      "source": [
        "## Reshaping\n",
        "X_train, X_test = X_train.reshape(-1,90,10), X_test.reshape(-1,90,10)\n",
        "Y_train, Y_test = Y_train.reshape(-1,90), Y_test.reshape(-1,90)\n",
        "\n",
        "X_train.shape, X_test.shape, Y_train.shape, Y_test.shape"
      ]
    },
    {
      "cell_type": "code",
      "execution_count": null,
      "metadata": {
        "id": "-1SzNvwAo3L8"
      },
      "outputs": [],
      "source": [
        "# Implement SGD regressor\n",
        "from sklearn.linear_model import SGDRegressor\n",
        "\n",
        "regressor = SGDRegressor(random_state=10)\n",
        "# Selecting data in batches\n",
        "for i in range(X_train.shape[0]): \n",
        "    X_batch, Y_batch = X_train[i], Y_train[i]\n",
        "    # Partially fitting data in batches\n",
        "    regressor.partial_fit(X_batch, Y_batch) "
      ]
    },
    {
      "cell_type": "code",
      "execution_count": null,
      "metadata": {
        "colab": {
          "base_uri": "https://localhost:8080/"
        },
        "id": "oWNOW2MMlTm5",
        "outputId": "c7305056-643d-4a58-ee36-c7721aa5f672"
      },
      "outputs": [
        {
          "data": {
            "text/plain": [
              "(90, 10)"
            ]
          },
          "execution_count": 18,
          "metadata": {},
          "output_type": "execute_result"
        }
      ],
      "source": [
        "X_train[i].shape"
      ]
    },
    {
      "cell_type": "code",
      "execution_count": null,
      "metadata": {
        "colab": {
          "base_uri": "https://localhost:8080/"
        },
        "id": "8WP0UVFHegrK",
        "outputId": "cc0089f4-a7c3-4aa5-c452-8a62a9661b3c"
      },
      "outputs": [
        {
          "data": {
            "text/plain": [
              "array([-0.0051044])"
            ]
          },
          "execution_count": 16,
          "metadata": {},
          "output_type": "execute_result"
        }
      ],
      "source": [
        "regressor.intercept_"
      ]
    },
    {
      "cell_type": "code",
      "execution_count": null,
      "metadata": {
        "colab": {
          "base_uri": "https://localhost:8080/"
        },
        "id": "QKppTbNPwelN",
        "outputId": "aa97c4b6-e98c-4e4a-fb0d-ac2968cd709a"
      },
      "outputs": [
        {
          "data": {
            "text/plain": [
              "array([51.32117195, 22.26580455, 81.23785419, 53.19578104, 76.46592847,\n",
              "       71.47197842, 93.45078666, 51.92184073, 30.03844346, 40.95696488])"
            ]
          },
          "execution_count": 17,
          "metadata": {},
          "output_type": "execute_result"
        }
      ],
      "source": [
        "regressor.coef_"
      ]
    },
    {
      "cell_type": "code",
      "execution_count": null,
      "metadata": {
        "id": "NtZj9b1BpBv5"
      },
      "outputs": [],
      "source": [
        "from sklearn.metrics import mean_squared_error, r2_score\n",
        "from sklearn.linear_model import SGDRegressor\n",
        "\n",
        "regressor = SGDRegressor()\n",
        "\n",
        "for i in range(X_train.shape[0]): ## Looping through batches\n",
        "    X_batch, Y_batch = X_train[i], Y_train[i]\n",
        "    regressor.partial_fit(X_batch, Y_batch) ## Partially fitting data in batches\n",
        "\n",
        "Y_test_preds = []\n",
        "for j in range(X_test.shape[0]): ## Looping through test batches for making predictions\n",
        "    Y_preds = regressor.predict(X_test[j])\n",
        "    Y_test_preds.extend(Y_preds.tolist())\n",
        "\n",
        "print(\"Test MSE      : {}\".format(mean_squared_error(Y_test.reshape(-1), Y_test_preds)))\n",
        "print(\"Test R2 Score : {}\".format(r2_score(Y_test.reshape(-1), Y_test_preds)))"
      ]
    },
    {
      "cell_type": "code",
      "execution_count": null,
      "metadata": {
        "id": "g3YmIJZW6M-m"
      },
      "outputs": [],
      "source": [
        "##Implement SGD regressor\n",
        "from sklearn.linear_model import SGDRegressor\n",
        "\n",
        "regressor = SGDRegressor(random_state=10)\n",
        "##Selecting data in batches\n",
        "for i in range(X_train.shape[0]): \n",
        "    X_batch, Y_batch = X_train[i], Y_train[i]\n",
        "    ## Partially fitting data in batches\n",
        "    regressor.partial_fit(X_batch, Y_batch)\n",
        "    if i==5:\n",
        "      break\n",
        "print(regressor.coef_)"
      ]
    },
    {
      "cell_type": "markdown",
      "metadata": {
        "id": "dFMgRP_91P8K"
      },
      "source": [
        "# **(Common data for Q6 to Q8 Graded questions)**\n",
        "\n",
        "This dataset was constructed by adding elevation information to a 2D road network in North Jutland, Denmark (covering a region of 185 x 135 km^2). Elevation values where extracted from a publicly available massive Laser Scan Point Cloud for Denmark. This 3D road network was eventually used for benchmarking various fuel and CO2 estimation algorithms. This dataset can be used by any applications that require to know very\n",
        "accurate elevation information of a road network to perform more accurate routing for eco-routing, cyclist routes etc. For the data mining and machine learning community, this dataset can be used as 'ground-truth' validation in spatial mining techniques and satellite image processing. It has no class labels,\n",
        "\n",
        "Use this dataset to guess some missing elevation information for some points on the road.\n",
        "\n",
        "**Column names:**\n",
        "\n",
        "1. OSM_ID: OpenStreetMap ID for each road segment or edge in the graph.\n",
        "\n",
        "2. LONGITUDE: Web Mercaptor (Google format) longitude\n",
        "\n",
        "3. LATITUDE: Web Mercaptor (Google format) latitude\n",
        "\n",
        "4. ALTITUDE: Height in meters.\n",
        "\n",
        "Load the dataset from link(\"https://archive.ics.uci.edu/ml/machine-learning-databases/00246/3D_spatial_network.txt\").\n",
        "Set parameter chunk size=20000 and iterator =True in pd.read_csv().\n",
        "\n",
        "\n",
        "**NOTE: The above file doesn't have column names**\n",
        "\n",
        "Scale your whole dataset first with standard scalar using partial_fit method. Then use SGDRegressor(random state=10) on the dataset and answer the following."
      ]
    },
    {
      "cell_type": "markdown",
      "metadata": {
        "id": "rA07mgV0_IDv"
      },
      "source": [
        "### **Que 6**\n",
        "\n",
        "[1 point] Check how many total samples are there in the dataset?\n",
        "\n",
        "Options: <br>\n",
        "1.  470000<br>\n",
        "2. 400000 <br>\n",
        "3. 90,000 <br>\n",
        "4. 434874 <br>\n",
        "\n",
        "Ans: 434874\n",
        "\n"
      ]
    },
    {
      "cell_type": "markdown",
      "metadata": {
        "id": "_fJr51DL_w4r"
      },
      "source": [
        "### **Que 7**\n",
        "\n",
        "[2 point]  \n",
        "What is the value of intercept after 7th iteration. (select the closest option).\n",
        "\n",
        "Options: <br>\n",
        "A. [9.6101e+10] <br>\n",
        "B. [4.1482e+15] <br>\n",
        "C. [ 8.6520e+11] <br>\n",
        "D. [ 5.5057e+12] <br>\n",
        "E. [-3.3580229e+08]\n",
        "\n",
        "Ans: E\n"
      ]
    },
    {
      "cell_type": "markdown",
      "metadata": {
        "id": "_v5Me2zCLa_B"
      },
      "source": [
        "### **Que 8**\n",
        "\n",
        "[2 point] What is the value of cofficient corresponding to longitude feature after 7th iteration.(select the closest option).\n",
        "\n",
        "Options: <br>\n",
        "A. [9.6101e+10]<br>\n",
        "B. [4.1482e+15] <br>\n",
        "C. [ 8.6520e+11] <br>\n",
        "D. [ 5.5057e+12] <br>\n",
        "E. [1.732780e+6]\n",
        "\n",
        "Ans: E\n"
      ]
    },
    {
      "cell_type": "markdown",
      "metadata": {
        "id": "HWtdaH_zP_rl"
      },
      "source": [
        " **(Q6-Q8)Solution:**"
      ]
    },
    {
      "cell_type": "code",
      "execution_count": 2,
      "metadata": {
        "id": "m0Qqtvmb1sWJ"
      },
      "outputs": [],
      "source": [
        "network_data_url = \"https://archive.ics.uci.edu/ml/machine-learning-databases/00246/3D_spatial_network.txt\" \n",
        "data2=pd.read_csv(network_data_url, header=None)"
      ]
    },
    {
      "cell_type": "code",
      "execution_count": 3,
      "metadata": {
        "colab": {
          "base_uri": "https://localhost:8080/"
        },
        "id": "8XZZPBpMs9bp",
        "outputId": "d1dc26ba-8e78-4a58-88b4-81bf761b980a"
      },
      "outputs": [
        {
          "data": {
            "text/plain": [
              "Index([0, 1, 2, 3], dtype='int64')"
            ]
          },
          "execution_count": 3,
          "metadata": {},
          "output_type": "execute_result"
        }
      ],
      "source": [
        "data2.columns"
      ]
    },
    {
      "cell_type": "code",
      "execution_count": 4,
      "metadata": {
        "colab": {
          "base_uri": "https://localhost:8080/",
          "height": 206
        },
        "id": "a1lW-O-Jol3O",
        "outputId": "ffbac6dc-9cb3-40fc-8219-0a6d67b7dd8f"
      },
      "outputs": [
        {
          "data": {
            "text/html": [
              "<div>\n",
              "<style scoped>\n",
              "    .dataframe tbody tr th:only-of-type {\n",
              "        vertical-align: middle;\n",
              "    }\n",
              "\n",
              "    .dataframe tbody tr th {\n",
              "        vertical-align: top;\n",
              "    }\n",
              "\n",
              "    .dataframe thead th {\n",
              "        text-align: right;\n",
              "    }\n",
              "</style>\n",
              "<table border=\"1\" class=\"dataframe\">\n",
              "  <thead>\n",
              "    <tr style=\"text-align: right;\">\n",
              "      <th></th>\n",
              "      <th>0</th>\n",
              "      <th>1</th>\n",
              "      <th>2</th>\n",
              "      <th>3</th>\n",
              "    </tr>\n",
              "  </thead>\n",
              "  <tbody>\n",
              "    <tr>\n",
              "      <th>0</th>\n",
              "      <td>144552912</td>\n",
              "      <td>9.349849</td>\n",
              "      <td>56.740876</td>\n",
              "      <td>17.052772</td>\n",
              "    </tr>\n",
              "    <tr>\n",
              "      <th>1</th>\n",
              "      <td>144552912</td>\n",
              "      <td>9.350188</td>\n",
              "      <td>56.740679</td>\n",
              "      <td>17.614840</td>\n",
              "    </tr>\n",
              "    <tr>\n",
              "      <th>2</th>\n",
              "      <td>144552912</td>\n",
              "      <td>9.350549</td>\n",
              "      <td>56.740544</td>\n",
              "      <td>18.083536</td>\n",
              "    </tr>\n",
              "    <tr>\n",
              "      <th>3</th>\n",
              "      <td>144552912</td>\n",
              "      <td>9.350806</td>\n",
              "      <td>56.740485</td>\n",
              "      <td>18.279465</td>\n",
              "    </tr>\n",
              "    <tr>\n",
              "      <th>4</th>\n",
              "      <td>144552912</td>\n",
              "      <td>9.351053</td>\n",
              "      <td>56.740486</td>\n",
              "      <td>18.422974</td>\n",
              "    </tr>\n",
              "  </tbody>\n",
              "</table>\n",
              "</div>"
            ],
            "text/plain": [
              "           0         1          2          3\n",
              "0  144552912  9.349849  56.740876  17.052772\n",
              "1  144552912  9.350188  56.740679  17.614840\n",
              "2  144552912  9.350549  56.740544  18.083536\n",
              "3  144552912  9.350806  56.740485  18.279465\n",
              "4  144552912  9.351053  56.740486  18.422974"
            ]
          },
          "execution_count": 4,
          "metadata": {},
          "output_type": "execute_result"
        }
      ],
      "source": [
        "data2.head()"
      ]
    },
    {
      "cell_type": "code",
      "execution_count": 5,
      "metadata": {
        "id": "60351x0BdeAT"
      },
      "outputs": [],
      "source": [
        "import pandas as pd\n",
        "from sklearn.preprocessing import StandardScaler\n",
        "chunksize = 20000\n",
        "scaler = StandardScaler()\n",
        "\n",
        "for train_df in pd.read_csv(network_data_url,\n",
        "                            chunksize=chunksize,\n",
        "                            iterator=True):\n",
        "    xtrain_partial = train_df.iloc[:, 1:3]\n",
        "    ytrain_partial = train_df.iloc[:, 3]\n",
        "    scaler.partial_fit(xtrain_partial, ytrain_partial) "
      ]
    },
    {
      "cell_type": "code",
      "execution_count": 6,
      "metadata": {
        "colab": {
          "base_uri": "https://localhost:8080/"
        },
        "id": "Av8GTCDbA4p2",
        "outputId": "444365bf-a5d9-4573-b637-a8d2076c4c2b"
      },
      "outputs": [
        {
          "ename": "NameError",
          "evalue": "name 'SGDRegressor' is not defined",
          "output_type": "error",
          "traceback": [
            "\u001b[1;31m---------------------------------------------------------------------------\u001b[0m",
            "\u001b[1;31mNameError\u001b[0m                                 Traceback (most recent call last)",
            "Cell \u001b[1;32mIn[6], line 4\u001b[0m\n\u001b[0;32m      1\u001b[0m \u001b[38;5;28;01mimport\u001b[39;00m \u001b[38;5;21;01mpandas\u001b[39;00m \u001b[38;5;28;01mas\u001b[39;00m \u001b[38;5;21;01mpd\u001b[39;00m\n\u001b[0;32m      3\u001b[0m chunksize \u001b[38;5;241m=\u001b[39m \u001b[38;5;241m20000\u001b[39m\n\u001b[1;32m----> 4\u001b[0m regressor \u001b[38;5;241m=\u001b[39m \u001b[43mSGDRegressor\u001b[49m(random_state\u001b[38;5;241m=\u001b[39m\u001b[38;5;241m10\u001b[39m)\n\u001b[0;32m      6\u001b[0m \u001b[38;5;28miter\u001b[39m \u001b[38;5;241m=\u001b[39m \u001b[38;5;241m1\u001b[39m\n\u001b[0;32m      7\u001b[0m \u001b[38;5;28;01mfor\u001b[39;00m train_df \u001b[38;5;129;01min\u001b[39;00m pd\u001b[38;5;241m.\u001b[39mread_csv(network_data_url,\n\u001b[0;32m      8\u001b[0m                             chunksize\u001b[38;5;241m=\u001b[39mchunksize,\n\u001b[0;32m      9\u001b[0m                             iterator\u001b[38;5;241m=\u001b[39m\u001b[38;5;28;01mTrue\u001b[39;00m):\n",
            "\u001b[1;31mNameError\u001b[0m: name 'SGDRegressor' is not defined"
          ]
        }
      ],
      "source": [
        "import pandas as pd\n",
        "\n",
        "chunksize = 20000\n",
        "regressor = SGDRegressor(random_state=10)\n",
        "\n",
        "iter = 1\n",
        "for train_df in pd.read_csv(network_data_url,\n",
        "                            chunksize=chunksize,\n",
        "                            iterator=True):\n",
        "  \n",
        "    xtrain_partial = train_df.iloc[:, 1:3]\n",
        "    ytrain_partial = train_df.iloc[:, 3]\n",
        "    scaler.transform(xtrain_partial)\n",
        "    regressor.partial_fit(xtrain_partial, ytrain_partial)\n",
        "    if iter==7:\n",
        "      print(\"After iter #\", iter)\n",
        "      print(regressor.intercept_) \n",
        "      print(regressor.coef_)\n",
        "      break  \n",
        "    iter = iter + 1"
      ]
    },
    {
      "cell_type": "markdown",
      "metadata": {
        "id": "J5rscB2XhOv6"
      },
      "source": [
        "# (Common data for Q9 to 10)\n",
        "Load Iris datset on Colab and use KNN classifier to build the model Using following steps.\n",
        "\n",
        "Step 1: Load the dataset and split it using train_test_split by keeping: test_size= 0.2 random_state=10\n",
        "\n",
        "Step 2: Use Normalizer() as a scaling function to scale the data.\n",
        "\n",
        "Step 3: Use KNeighborsClassifier(K) as an estimator to predict the output."
      ]
    },
    {
      "cell_type": "code",
      "execution_count": null,
      "metadata": {
        "id": "-7xgP_nUJkpb"
      },
      "outputs": [],
      "source": [
        "import matplotlib.pyplot as plt\n",
        "import numpy as np\n",
        "import pandas as pd\n",
        "import seaborn as sns\n",
        "\n",
        "from sklearn import datasets\n",
        "from sklearn.model_selection import train_test_split , KFold\n",
        "from sklearn.preprocessing import Normalizer\n",
        "\n",
        "from sklearn.metrics import accuracy_score,f1_score, recall_score\n",
        "from sklearn.neighbors import KNeighborsClassifier"
      ]
    },
    {
      "cell_type": "code",
      "execution_count": null,
      "metadata": {
        "id": "JPdEk_-QJ61J"
      },
      "outputs": [],
      "source": [
        "iris = datasets.load_iris()\n",
        "x=iris.data\n",
        "y=iris.target"
      ]
    },
    {
      "cell_type": "code",
      "execution_count": null,
      "metadata": {
        "id": "wA-iXOpOKWVd"
      },
      "outputs": [],
      "source": [
        "x_train, x_test, y_train, y_test= train_test_split(x, y,\n",
        "                                                   test_size= 0.2,\n",
        "                                                   random_state= 10)"
      ]
    },
    {
      "cell_type": "code",
      "execution_count": null,
      "metadata": {
        "id": "wFj-67NeKfnU"
      },
      "outputs": [],
      "source": [
        "scaler= Normalizer().fit(x_train) # the scaler is fitted to the training set\n",
        "normalized_x_train= scaler.transform(x_train) # the scaler is applied to the training set\n",
        "normalized_x_test= scaler.transform(x_test) # the scaler is applied to the test set"
      ]
    },
    {
      "cell_type": "markdown",
      "metadata": {
        "id": "SAd4TG-teJX-"
      },
      "source": [
        "### **Que 9**\n",
        "\n",
        "[1 point] Which of the following K value gives the best accuracy on test set.\n",
        "\n",
        "Options: <br>\n",
        "1.  k=4<br>\n",
        "2. k=2 <br>\n",
        "3. k=3 <br>\n",
        "4. All K value given in the option gives same score. <br>\n",
        "\n",
        "**Ans:** Option 4\n",
        "\n"
      ]
    },
    {
      "cell_type": "markdown",
      "metadata": {
        "id": "G0UgoBBq4tGC"
      },
      "source": [
        "**Solution**"
      ]
    },
    {
      "cell_type": "code",
      "execution_count": null,
      "metadata": {
        "colab": {
          "base_uri": "https://localhost:8080/"
        },
        "id": "v7sYQVkeKu5c",
        "outputId": "d83bbab6-4295-4828-fa37-ef6e45d6f099"
      },
      "outputs": [
        {
          "name": "stdout",
          "output_type": "stream",
          "text": [
            "Accuracey for K=1 is 0.9666666666666667\n",
            "Accuracey for K=2 is 0.9666666666666667\n",
            "Accuracey for K=3 is 0.9666666666666667\n"
          ]
        }
      ],
      "source": [
        "for i in range(1, 4): \n",
        "  knn=KNeighborsClassifier(i)\n",
        "  knn.fit(normalized_x_train, y_train)\n",
        "  y_pred= knn.predict(normalized_x_test)\n",
        "  print(f'Accuracey for K={i} is {accuracy_score(y_test,y_pred)}')"
      ]
    },
    {
      "cell_type": "markdown",
      "metadata": {
        "id": "MI9rcKw5eyCy"
      },
      "source": [
        "### **Que 10**\n",
        "\n",
        "[1 point] What is the accuracy for k=3?\n",
        "\n",
        "Options: <br>\n",
        "1.  0.96<br>\n",
        "2. 0.91 <br>\n",
        "3. 0.99 <br>\n",
        "4. 1.0  <br>\n",
        "\n",
        "**Ans:** 0.96\n",
        "\n"
      ]
    },
    {
      "cell_type": "code",
      "execution_count": null,
      "metadata": {
        "id": "ISINz4ej5EQZ"
      },
      "outputs": [],
      "source": [
        "knn=KNeighborsClassifier(3)\n",
        "knn.fit(normalized_x_train, y_train)\n",
        "y_pred= knn.predict(normalized_x_test)\n",
        "print(f'Accuracey for K={i} is {accuracy_score(y_test,y_pred)}')"
      ]
    },
    {
      "cell_type": "markdown",
      "metadata": {
        "id": "VQXrEny9fJo6"
      },
      "source": [
        "### **Que 11**\n",
        "\n",
        "[1 point] Compute wieghted F1 score value  for k=3.(Keep parameter average='weighted') \n",
        "\n",
        "[NAT]\n",
        "\n",
        "\n",
        "**Ans:** 0.9671\n",
        "\n",
        "Range: 0.95-0.98\n"
      ]
    },
    {
      "cell_type": "markdown",
      "metadata": {
        "id": "XgI5dZccZmeH"
      },
      "source": [
        " **(Q9-Q11)Solution:**"
      ]
    },
    {
      "cell_type": "code",
      "execution_count": null,
      "metadata": {
        "colab": {
          "base_uri": "https://localhost:8080/"
        },
        "id": "gE3xMuBlZyVG",
        "outputId": "4feb8551-c77b-4def-d4d2-96a2a514afa2"
      },
      "outputs": [
        {
          "name": "stdout",
          "output_type": "stream",
          "text": [
            "              precision    recall  f1-score   support\n",
            "\n",
            "     class 0       1.00      1.00      1.00        10\n",
            "     class 1       1.00      0.92      0.96        13\n",
            "     class 2       0.88      1.00      0.93         7\n",
            "\n",
            "    accuracy                           0.97        30\n",
            "   macro avg       0.96      0.97      0.96        30\n",
            "weighted avg       0.97      0.97      0.97        30\n",
            "\n"
          ]
        }
      ],
      "source": [
        "from sklearn.metrics import classification_report\n",
        "target_names = ['class 0', 'class 1', 'class 2']\n",
        "print(classification_report(y_test, y_pred, target_names=target_names))"
      ]
    },
    {
      "cell_type": "code",
      "execution_count": null,
      "metadata": {
        "colab": {
          "base_uri": "https://localhost:8080/"
        },
        "id": "2FvjyNbiZSxz",
        "outputId": "16fa6716-1b4b-4727-851b-c44322f5591b"
      },
      "outputs": [
        {
          "data": {
            "text/plain": [
              "0.9666666666666667"
            ]
          },
          "execution_count": 39,
          "metadata": {},
          "output_type": "execute_result"
        }
      ],
      "source": [
        "accuracy_score(y_test,y_pred)"
      ]
    },
    {
      "cell_type": "code",
      "execution_count": null,
      "metadata": {
        "colab": {
          "base_uri": "https://localhost:8080/"
        },
        "id": "F7-NsDmnbno9",
        "outputId": "ecb4ab49-1649-4310-d8d9-2d279bc57957"
      },
      "outputs": [
        {
          "data": {
            "text/plain": [
              "0.9671111111111111"
            ]
          },
          "execution_count": 40,
          "metadata": {},
          "output_type": "execute_result"
        }
      ],
      "source": [
        "f1_score(y_test, y_pred, average='weighted')"
      ]
    },
    {
      "cell_type": "code",
      "execution_count": null,
      "metadata": {
        "colab": {
          "base_uri": "https://localhost:8080/"
        },
        "id": "fLu96lRxbvDA",
        "outputId": "bdc2f505-c545-44cb-9bc0-91dfa4a9b3c9"
      },
      "outputs": [
        {
          "data": {
            "text/plain": [
              "0.9666666666666667"
            ]
          },
          "execution_count": 41,
          "metadata": {},
          "output_type": "execute_result"
        }
      ],
      "source": [
        "recall_score(y_test, y_pred, average='weighted')"
      ]
    },
    {
      "cell_type": "code",
      "execution_count": null,
      "metadata": {
        "id": "H3FYlxZPcUiP"
      },
      "outputs": [],
      "source": [
        "accuracy_list=[]\n",
        "for i in range(1,20):\n",
        "  knn=KNeighborsClassifier(i)\n",
        "  knn.fit(normalized_x_train, y_train)\n",
        "  y_pred= knn.predict(normalized_x_test)\n",
        "  b=accuracy_score(y_test,y_pred)\n",
        "  accuracy_list.append(b)"
      ]
    }
  ],
  "metadata": {
    "colab": {
      "collapsed_sections": [],
      "name": "MLP Week 7 Programming Questions",
      "provenance": [],
      "toc_visible": true
    },
    "kernelspec": {
      "display_name": "Python 3",
      "name": "python3"
    },
    "language_info": {
      "codemirror_mode": {
        "name": "ipython",
        "version": 3
      },
      "file_extension": ".py",
      "mimetype": "text/x-python",
      "name": "python",
      "nbconvert_exporter": "python",
      "pygments_lexer": "ipython3",
      "version": "3.12.2"
    }
  },
  "nbformat": 4,
  "nbformat_minor": 0
}
